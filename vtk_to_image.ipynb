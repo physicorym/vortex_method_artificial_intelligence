{
 "cells": [
  {
   "cell_type": "code",
   "execution_count": 1,
   "id": "825c94ac",
   "metadata": {},
   "outputs": [],
   "source": [
    "import os\n",
    "from tqdm import tqdm\n",
    "\n",
    "import vtkmodules.all as vtk\n",
    "from vtkmodules.util.colors import tomato"
   ]
  },
  {
   "cell_type": "code",
   "execution_count": 2,
   "id": "e246b639",
   "metadata": {},
   "outputs": [
    {
     "name": "stdout",
     "output_type": "stream",
     "text": [
      "502\n"
     ]
    }
   ],
   "source": [
    "dir_vtk = '/Volumes/T7/scince/data/VM2D/wing_10_11/output_wing_10_11/snapshots/'\n",
    "list_vtk = os.listdir(dir_vtk)\n",
    "print(len(list_vtk))"
   ]
  },
  {
   "cell_type": "code",
   "execution_count": 9,
   "id": "cc35f0e9",
   "metadata": {},
   "outputs": [],
   "source": [
    "current_scale = 2.0\n",
    "\n",
    "def vtk_to_image(dir_vtk, vtk_file):\n",
    "\n",
    "    vtk_file_path = dir_vtk + vtk_file\n",
    "\n",
    "    reader = vtk.vtkUnstructuredGridReader()\n",
    "    reader.SetFileName(vtk_file_path)\n",
    "\n",
    "    renderer = vtk.vtkRenderer()\n",
    "\n",
    "    render_window = vtk.vtkRenderWindow()\n",
    "    render_window.AddRenderer(renderer)\n",
    "\n",
    "    render_interactor = vtk.vtkRenderWindowInteractor()\n",
    "    render_interactor.SetRenderWindow(render_window)\n",
    "\n",
    "    mapper = vtk.vtkDataSetMapper()\n",
    "    mapper.SetInputConnection(reader.GetOutputPort())\n",
    "    mapper.ScalarVisibilityOff()\n",
    "\n",
    "    actor = vtk.vtkActor()\n",
    "    actor.SetMapper(mapper)\n",
    "    actor.GetProperty().SetColor(tomato)\n",
    "\n",
    "    renderer.AddActor(actor)\n",
    "    renderer.SetBackground(0.1, 0.1, 0.1)\n",
    "\n",
    "    renderer.ResetCamera()\n",
    "    render_window.Render()\n",
    "\n",
    "    renderer.ResetCamera()\n",
    "\n",
    "    transform = vtk.vtkTransform()\n",
    "    transform.Scale(current_scale, current_scale, current_scale)\n",
    "    actor.SetUserTransform(transform)\n",
    "\n",
    "    render_window.SetSize(1600, 1200)\n",
    "    render_window.Render()\n",
    "\n",
    "\n",
    "    screenshot = vtk.vtkWindowToImageFilter()\n",
    "    screenshot.SetInput(render_window)\n",
    "    screenshot.Update()\n",
    "\n",
    "    name_image = '.'.join(vtk_file.split('.')[:-1])\n",
    "    \n",
    "    writer = vtk.vtkPNGWriter()\n",
    "    writer.SetFileName(f\"images/{name_image}.png\")\n",
    "    writer.SetInputConnection(screenshot.GetOutputPort())\n",
    "    writer.Write()\n",
    "\n",
    "#     render_interactor.Start()"
   ]
  },
  {
   "cell_type": "code",
   "execution_count": null,
   "id": "3039ad34",
   "metadata": {},
   "outputs": [
    {
     "name": "stderr",
     "output_type": "stream",
     "text": [
      " 11%|████▌                                     | 55/502 [00:09<01:16,  5.85it/s]"
     ]
    }
   ],
   "source": [
    "for vtk_file in tqdm(list_vtk):\n",
    "    vtk_to_image(dir_vtk, vtk_file)"
   ]
  },
  {
   "cell_type": "code",
   "execution_count": 7,
   "id": "5ea1b608",
   "metadata": {},
   "outputs": [],
   "source": [
    "# test one image\n",
    "\n",
    "dir_vtk = '/Volumes/T7/scince/data/VM2D/wing_10_11/output_wing_10_11/snapshots/'\n",
    "\n",
    "vtk_file_path = dir_vtk + \"Kadr000490.vtk\"\n",
    "\n",
    "reader = vtk.vtkUnstructuredGridReader()\n",
    "reader.SetFileName(vtk_file_path)\n",
    "\n",
    "renderer = vtk.vtkRenderer()\n",
    "\n",
    "render_window = vtk.vtkRenderWindow()\n",
    "render_window.AddRenderer(renderer)\n",
    "\n",
    "render_interactor = vtk.vtkRenderWindowInteractor()\n",
    "render_interactor.SetRenderWindow(render_window)\n",
    "\n",
    "mapper = vtk.vtkDataSetMapper()\n",
    "mapper.SetInputConnection(reader.GetOutputPort())\n",
    "mapper.ScalarVisibilityOff()\n",
    "\n",
    "actor = vtk.vtkActor()\n",
    "actor.SetMapper(mapper)\n",
    "actor.GetProperty().SetColor(tomato)\n",
    "\n",
    "renderer.AddActor(actor)\n",
    "renderer.SetBackground(0.1, 0.1, 0.1)\n",
    "\n",
    "renderer.ResetCamera()\n",
    "render_window.Render()\n",
    "\n",
    "renderer.ResetCamera()\n",
    "\n",
    "transform = vtk.vtkTransform()\n",
    "transform.Scale(current_scale, current_scale, current_scale)\n",
    "actor.SetUserTransform(transform)\n",
    "\n",
    "render_window.SetSize(1600, 1200)\n",
    "render_window.Render()\n",
    "\n",
    "\n",
    "screenshot = vtk.vtkWindowToImageFilter()\n",
    "screenshot.SetInput(render_window)\n",
    "screenshot.Update()\n",
    "\n",
    "writer = vtk.vtkPNGWriter()\n",
    "writer.SetFileName(\"images/test.png\")\n",
    "writer.SetInputConnection(screenshot.GetOutputPort())\n",
    "writer.Write()\n",
    "\n",
    "render_interactor.Start()"
   ]
  },
  {
   "cell_type": "code",
   "execution_count": null,
   "id": "18e5b9b7",
   "metadata": {},
   "outputs": [],
   "source": []
  }
 ],
 "metadata": {
  "kernelspec": {
   "display_name": "Python 3 (ipykernel)",
   "language": "python",
   "name": "python3"
  },
  "language_info": {
   "codemirror_mode": {
    "name": "ipython",
    "version": 3
   },
   "file_extension": ".py",
   "mimetype": "text/x-python",
   "name": "python",
   "nbconvert_exporter": "python",
   "pygments_lexer": "ipython3",
   "version": "3.10.0"
  }
 },
 "nbformat": 4,
 "nbformat_minor": 5
}
