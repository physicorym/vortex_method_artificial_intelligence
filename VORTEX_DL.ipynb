{
 "cells": [
  {
   "cell_type": "code",
   "execution_count": null,
   "metadata": {
    "id": "xzSg5zJ96040"
   },
   "outputs": [],
   "source": []
  },
  {
   "cell_type": "code",
   "execution_count": 1,
   "metadata": {
    "id": "1W6_vK1lAFWH"
   },
   "outputs": [
    {
     "name": "stderr",
     "output_type": "stream",
     "text": [
      "/Library/Frameworks/Python.framework/Versions/3.10/lib/python3.10/site-packages/tqdm/auto.py:21: TqdmWarning: IProgress not found. Please update jupyter and ipywidgets. See https://ipywidgets.readthedocs.io/en/stable/user_install.html\n",
      "  from .autonotebook import tqdm as notebook_tqdm\n"
     ]
    }
   ],
   "source": [
    "import os\n",
    "import pandas as pd\n",
    "\n",
    "import numpy as np\n",
    "\n",
    "import cv2\n",
    "import matplotlib.pyplot as plt\n",
    "\n",
    "from tqdm import tqdm\n",
    "\n",
    "import torch\n",
    "from torch.utils.data import Dataset, DataLoader\n",
    "import torchvision.transforms as T\n",
    "from torchvision.utils import make_grid\n",
    "# from torchsummary import summary\n",
    "\n",
    "import torch.nn as nn\n",
    "import torch.nn.functional as F\n",
    "import torch.optim as optim"
   ]
  },
  {
   "cell_type": "code",
   "execution_count": 2,
   "metadata": {
    "id": "gBBGZ9BZAFa0"
   },
   "outputs": [],
   "source": [
    "dir_images = '/Users/nikitakamenev/Documents/dataset/scince/data_image/wing_10_11/'\n",
    "list_path_img = sorted(os.listdir(dir_images))\n",
    "\n",
    "dir_force_csv = '/Users/nikitakamenev/Documents/dataset/scince/data_image/forces-airfoil-0.csv'\n",
    "df = pd.read_csv(dir_force_csv)"
   ]
  },
  {
   "cell_type": "code",
   "execution_count": 3,
   "metadata": {
    "colab": {
     "base_uri": "https://localhost:8080/",
     "height": 424
    },
    "id": "FhyA1Xf-AFc5",
    "outputId": "4d627c86-f340-4797-a27a-1d183a1592db"
   },
   "outputs": [
    {
     "data": {
      "text/html": [
       "<div>\n",
       "<style scoped>\n",
       "    .dataframe tbody tr th:only-of-type {\n",
       "        vertical-align: middle;\n",
       "    }\n",
       "\n",
       "    .dataframe tbody tr th {\n",
       "        vertical-align: top;\n",
       "    }\n",
       "\n",
       "    .dataframe thead th {\n",
       "        text-align: right;\n",
       "    }\n",
       "</style>\n",
       "<table border=\"1\" class=\"dataframe\">\n",
       "  <thead>\n",
       "    <tr style=\"text-align: right;\">\n",
       "      <th></th>\n",
       "      <th>t</th>\n",
       "      <th>Fx</th>\n",
       "      <th>Fy</th>\n",
       "      <th>Mz</th>\n",
       "      <th>Ftaux</th>\n",
       "      <th>Ftauy</th>\n",
       "      <th>Mtau</th>\n",
       "    </tr>\n",
       "  </thead>\n",
       "  <tbody>\n",
       "    <tr>\n",
       "      <th>0</th>\n",
       "      <td>0.001</td>\n",
       "      <td>0.00000</td>\n",
       "      <td>0.00000</td>\n",
       "      <td>0.000000</td>\n",
       "      <td>0.000000</td>\n",
       "      <td>0.000000</td>\n",
       "      <td>0.000000</td>\n",
       "    </tr>\n",
       "    <tr>\n",
       "      <th>1</th>\n",
       "      <td>0.002</td>\n",
       "      <td>1.27266</td>\n",
       "      <td>1.43067</td>\n",
       "      <td>-0.011931</td>\n",
       "      <td>0.000000</td>\n",
       "      <td>0.000000</td>\n",
       "      <td>0.000000</td>\n",
       "    </tr>\n",
       "    <tr>\n",
       "      <th>2</th>\n",
       "      <td>0.003</td>\n",
       "      <td>1.27284</td>\n",
       "      <td>1.43126</td>\n",
       "      <td>-0.011841</td>\n",
       "      <td>0.001074</td>\n",
       "      <td>-0.000140</td>\n",
       "      <td>-0.000013</td>\n",
       "    </tr>\n",
       "    <tr>\n",
       "      <th>3</th>\n",
       "      <td>0.004</td>\n",
       "      <td>1.27314</td>\n",
       "      <td>1.43203</td>\n",
       "      <td>-0.011741</td>\n",
       "      <td>0.002158</td>\n",
       "      <td>-0.000282</td>\n",
       "      <td>-0.000026</td>\n",
       "    </tr>\n",
       "    <tr>\n",
       "      <th>4</th>\n",
       "      <td>0.005</td>\n",
       "      <td>1.27353</td>\n",
       "      <td>1.43373</td>\n",
       "      <td>-0.011325</td>\n",
       "      <td>0.003254</td>\n",
       "      <td>-0.000425</td>\n",
       "      <td>-0.000039</td>\n",
       "    </tr>\n",
       "    <tr>\n",
       "      <th>...</th>\n",
       "      <td>...</td>\n",
       "      <td>...</td>\n",
       "      <td>...</td>\n",
       "      <td>...</td>\n",
       "      <td>...</td>\n",
       "      <td>...</td>\n",
       "      <td>...</td>\n",
       "    </tr>\n",
       "    <tr>\n",
       "      <th>4995</th>\n",
       "      <td>4.996</td>\n",
       "      <td>8.47258</td>\n",
       "      <td>52.48830</td>\n",
       "      <td>-10.626200</td>\n",
       "      <td>0.502824</td>\n",
       "      <td>-0.092453</td>\n",
       "      <td>0.043798</td>\n",
       "    </tr>\n",
       "    <tr>\n",
       "      <th>4996</th>\n",
       "      <td>4.997</td>\n",
       "      <td>9.12782</td>\n",
       "      <td>56.25440</td>\n",
       "      <td>-10.564600</td>\n",
       "      <td>0.513078</td>\n",
       "      <td>-0.092435</td>\n",
       "      <td>0.043615</td>\n",
       "    </tr>\n",
       "    <tr>\n",
       "      <th>4997</th>\n",
       "      <td>4.998</td>\n",
       "      <td>8.69260</td>\n",
       "      <td>54.08690</td>\n",
       "      <td>-10.561500</td>\n",
       "      <td>0.508880</td>\n",
       "      <td>-0.091396</td>\n",
       "      <td>0.043093</td>\n",
       "    </tr>\n",
       "    <tr>\n",
       "      <th>4998</th>\n",
       "      <td>4.999</td>\n",
       "      <td>8.68157</td>\n",
       "      <td>54.01290</td>\n",
       "      <td>-10.295700</td>\n",
       "      <td>0.513117</td>\n",
       "      <td>-0.093429</td>\n",
       "      <td>0.040491</td>\n",
       "    </tr>\n",
       "    <tr>\n",
       "      <th>4999</th>\n",
       "      <td>5.000</td>\n",
       "      <td>9.07623</td>\n",
       "      <td>55.96870</td>\n",
       "      <td>-10.542100</td>\n",
       "      <td>0.487850</td>\n",
       "      <td>-0.086454</td>\n",
       "      <td>0.036503</td>\n",
       "    </tr>\n",
       "  </tbody>\n",
       "</table>\n",
       "<p>5000 rows × 7 columns</p>\n",
       "</div>"
      ],
      "text/plain": [
       "          t       Fx        Fy         Mz     Ftaux     Ftauy      Mtau\n",
       "0     0.001  0.00000   0.00000   0.000000  0.000000  0.000000  0.000000\n",
       "1     0.002  1.27266   1.43067  -0.011931  0.000000  0.000000  0.000000\n",
       "2     0.003  1.27284   1.43126  -0.011841  0.001074 -0.000140 -0.000013\n",
       "3     0.004  1.27314   1.43203  -0.011741  0.002158 -0.000282 -0.000026\n",
       "4     0.005  1.27353   1.43373  -0.011325  0.003254 -0.000425 -0.000039\n",
       "...     ...      ...       ...        ...       ...       ...       ...\n",
       "4995  4.996  8.47258  52.48830 -10.626200  0.502824 -0.092453  0.043798\n",
       "4996  4.997  9.12782  56.25440 -10.564600  0.513078 -0.092435  0.043615\n",
       "4997  4.998  8.69260  54.08690 -10.561500  0.508880 -0.091396  0.043093\n",
       "4998  4.999  8.68157  54.01290 -10.295700  0.513117 -0.093429  0.040491\n",
       "4999  5.000  9.07623  55.96870 -10.542100  0.487850 -0.086454  0.036503\n",
       "\n",
       "[5000 rows x 7 columns]"
      ]
     },
     "execution_count": 3,
     "metadata": {},
     "output_type": "execute_result"
    }
   ],
   "source": [
    "df"
   ]
  },
  {
   "cell_type": "code",
   "execution_count": 90,
   "metadata": {
    "colab": {
     "base_uri": "https://localhost:8080/"
    },
    "id": "atKoUhCTDNI_",
    "outputId": "0d0b675e-ecc4-4de0-e708-c1c0abac6164"
   },
   "outputs": [
    {
     "name": "stdout",
     "output_type": "stream",
     "text": [
      "85.8021 -0.110929\n"
     ]
    }
   ],
   "source": [
    "max_force = max(max(df['Fy']), max(df['Fx']))\n",
    "min_force = min(min(df['Fy']), min(df['Fx']))\n",
    "\n",
    "max_force_X = max(df['Fx'])\n",
    "max_force_Y = max(df['Fy'])\n",
    "print(max_force, min_force)"
   ]
  },
  {
   "cell_type": "code",
   "execution_count": 5,
   "metadata": {
    "colab": {
     "base_uri": "https://localhost:8080/",
     "height": 424
    },
    "id": "rBYNEa-vDcIH",
    "outputId": "2dde4086-ce4e-45dd-ce06-444532e202ff"
   },
   "outputs": [
    {
     "data": {
      "text/html": [
       "<div>\n",
       "<style scoped>\n",
       "    .dataframe tbody tr th:only-of-type {\n",
       "        vertical-align: middle;\n",
       "    }\n",
       "\n",
       "    .dataframe tbody tr th {\n",
       "        vertical-align: top;\n",
       "    }\n",
       "\n",
       "    .dataframe thead th {\n",
       "        text-align: right;\n",
       "    }\n",
       "</style>\n",
       "<table border=\"1\" class=\"dataframe\">\n",
       "  <thead>\n",
       "    <tr style=\"text-align: right;\">\n",
       "      <th></th>\n",
       "      <th>t</th>\n",
       "      <th>Fx</th>\n",
       "      <th>Fy</th>\n",
       "      <th>Mz</th>\n",
       "      <th>Ftaux</th>\n",
       "      <th>Ftauy</th>\n",
       "      <th>Mtau</th>\n",
       "    </tr>\n",
       "  </thead>\n",
       "  <tbody>\n",
       "    <tr>\n",
       "      <th>0</th>\n",
       "      <td>0.001</td>\n",
       "      <td>0.000000</td>\n",
       "      <td>0.000000</td>\n",
       "      <td>0.000000</td>\n",
       "      <td>0.000000</td>\n",
       "      <td>0.000000</td>\n",
       "      <td>0.000000</td>\n",
       "    </tr>\n",
       "    <tr>\n",
       "      <th>1</th>\n",
       "      <td>0.002</td>\n",
       "      <td>0.066877</td>\n",
       "      <td>0.016674</td>\n",
       "      <td>-0.011931</td>\n",
       "      <td>0.000000</td>\n",
       "      <td>0.000000</td>\n",
       "      <td>0.000000</td>\n",
       "    </tr>\n",
       "    <tr>\n",
       "      <th>2</th>\n",
       "      <td>0.003</td>\n",
       "      <td>0.066887</td>\n",
       "      <td>0.016681</td>\n",
       "      <td>-0.011841</td>\n",
       "      <td>0.001074</td>\n",
       "      <td>-0.000140</td>\n",
       "      <td>-0.000013</td>\n",
       "    </tr>\n",
       "    <tr>\n",
       "      <th>3</th>\n",
       "      <td>0.004</td>\n",
       "      <td>0.066902</td>\n",
       "      <td>0.016690</td>\n",
       "      <td>-0.011741</td>\n",
       "      <td>0.002158</td>\n",
       "      <td>-0.000282</td>\n",
       "      <td>-0.000026</td>\n",
       "    </tr>\n",
       "    <tr>\n",
       "      <th>4</th>\n",
       "      <td>0.005</td>\n",
       "      <td>0.066923</td>\n",
       "      <td>0.016710</td>\n",
       "      <td>-0.011325</td>\n",
       "      <td>0.003254</td>\n",
       "      <td>-0.000425</td>\n",
       "      <td>-0.000039</td>\n",
       "    </tr>\n",
       "    <tr>\n",
       "      <th>...</th>\n",
       "      <td>...</td>\n",
       "      <td>...</td>\n",
       "      <td>...</td>\n",
       "      <td>...</td>\n",
       "      <td>...</td>\n",
       "      <td>...</td>\n",
       "      <td>...</td>\n",
       "    </tr>\n",
       "    <tr>\n",
       "      <th>4995</th>\n",
       "      <td>4.996</td>\n",
       "      <td>0.445227</td>\n",
       "      <td>0.611737</td>\n",
       "      <td>-10.626200</td>\n",
       "      <td>0.502824</td>\n",
       "      <td>-0.092453</td>\n",
       "      <td>0.043798</td>\n",
       "    </tr>\n",
       "    <tr>\n",
       "      <th>4996</th>\n",
       "      <td>4.997</td>\n",
       "      <td>0.479659</td>\n",
       "      <td>0.655630</td>\n",
       "      <td>-10.564600</td>\n",
       "      <td>0.513078</td>\n",
       "      <td>-0.092435</td>\n",
       "      <td>0.043615</td>\n",
       "    </tr>\n",
       "    <tr>\n",
       "      <th>4997</th>\n",
       "      <td>4.998</td>\n",
       "      <td>0.456789</td>\n",
       "      <td>0.630368</td>\n",
       "      <td>-10.561500</td>\n",
       "      <td>0.508880</td>\n",
       "      <td>-0.091396</td>\n",
       "      <td>0.043093</td>\n",
       "    </tr>\n",
       "    <tr>\n",
       "      <th>4998</th>\n",
       "      <td>4.999</td>\n",
       "      <td>0.456209</td>\n",
       "      <td>0.629506</td>\n",
       "      <td>-10.295700</td>\n",
       "      <td>0.513117</td>\n",
       "      <td>-0.093429</td>\n",
       "      <td>0.040491</td>\n",
       "    </tr>\n",
       "    <tr>\n",
       "      <th>4999</th>\n",
       "      <td>5.000</td>\n",
       "      <td>0.476948</td>\n",
       "      <td>0.652300</td>\n",
       "      <td>-10.542100</td>\n",
       "      <td>0.487850</td>\n",
       "      <td>-0.086454</td>\n",
       "      <td>0.036503</td>\n",
       "    </tr>\n",
       "  </tbody>\n",
       "</table>\n",
       "<p>5000 rows × 7 columns</p>\n",
       "</div>"
      ],
      "text/plain": [
       "          t        Fx        Fy         Mz     Ftaux     Ftauy      Mtau\n",
       "0     0.001  0.000000  0.000000   0.000000  0.000000  0.000000  0.000000\n",
       "1     0.002  0.066877  0.016674  -0.011931  0.000000  0.000000  0.000000\n",
       "2     0.003  0.066887  0.016681  -0.011841  0.001074 -0.000140 -0.000013\n",
       "3     0.004  0.066902  0.016690  -0.011741  0.002158 -0.000282 -0.000026\n",
       "4     0.005  0.066923  0.016710  -0.011325  0.003254 -0.000425 -0.000039\n",
       "...     ...       ...       ...        ...       ...       ...       ...\n",
       "4995  4.996  0.445227  0.611737 -10.626200  0.502824 -0.092453  0.043798\n",
       "4996  4.997  0.479659  0.655630 -10.564600  0.513078 -0.092435  0.043615\n",
       "4997  4.998  0.456789  0.630368 -10.561500  0.508880 -0.091396  0.043093\n",
       "4998  4.999  0.456209  0.629506 -10.295700  0.513117 -0.093429  0.040491\n",
       "4999  5.000  0.476948  0.652300 -10.542100  0.487850 -0.086454  0.036503\n",
       "\n",
       "[5000 rows x 7 columns]"
      ]
     },
     "execution_count": 5,
     "metadata": {},
     "output_type": "execute_result"
    }
   ],
   "source": [
    "df['Fx'] = df['Fx']/max_force_X\n",
    "df['Fy'] = df['Fy']/max_force_Y\n",
    "\n",
    "df"
   ]
  },
  {
   "cell_type": "code",
   "execution_count": 6,
   "metadata": {
    "id": "C-trl_gLAYxP"
   },
   "outputs": [],
   "source": [
    "# import numpy as np\n",
    "\n",
    "# width, height = 1912, 800\n",
    "# resize_func = np.vectorize(lambda path: cv2.resize(cv2.imread(dir_images + path, cv2.IMREAD_GRAYSCALE), (width, height)))\n",
    "# images = np.array(resize_func(list_path_img[:-1]))\n",
    "\n",
    "# # Преобразование массива images в список пар изображений\n",
    "# np_images = images.reshape(-1, 2, height, width)\n"
   ]
  },
  {
   "cell_type": "code",
   "execution_count": 91,
   "metadata": {
    "id": "aMHJhawRIYeK"
   },
   "outputs": [],
   "source": [
    "# import numpy as np\n",
    "# from tqdm import tqdm\n",
    "\n",
    "# list_images = []\n",
    "# width, height = 1912, 800\n",
    "\n",
    "# for i, path in tqdm(enumerate(list_path_img[:-1:2]), total=len(list_path_img[:-1:2])):\n",
    "#     img1 = cv2.imread(dir_images + path, cv2.IMREAD_GRAYSCALE)\n",
    "#     img1 = cv2.resize(img1, (width, height))\n",
    "#     img2 = cv2.imread(dir_images + list_path_img[i + 1], cv2.IMREAD_GRAYSCALE)\n",
    "#     img2 = cv2.resize(img2, (width, height))\n",
    "#     list_images.append(np.array((img1, img2)))\n"
   ]
  },
  {
   "cell_type": "code",
   "execution_count": 145,
   "metadata": {
    "colab": {
     "base_uri": "https://localhost:8080/"
    },
    "id": "4JRL0HmFFbI0",
    "outputId": "a785def5-c087-4a45-8fa2-cb446320db15"
   },
   "outputs": [
    {
     "name": "stderr",
     "output_type": "stream",
     "text": [
      "100%|█████████████████████████████████████████| 150/150 [00:04<00:00, 33.82it/s]\n"
     ]
    }
   ],
   "source": [
    "list_images = []\n",
    "inter_images = []\n",
    "\n",
    "for i in tqdm(range(0, len(list_path_img)-1,2)):\n",
    "  img1 = cv2.imread(dir_images + list_path_img[i], cv2.IMREAD_GRAYSCALE)\n",
    "  img1 = cv2.resize(img1, (1912, 800))[200:600, 500:1750]\n",
    "  # plt.imshow(img1)\n",
    "  # plt.show()\n",
    "  img2 = cv2.imread(dir_images + list_path_img[i+1], cv2.IMREAD_GRAYSCALE)\n",
    "  img2 = cv2.resize(img2, (1912, 800))[200:600, 500:1750]\n",
    "  list_images.append(np.array((img1, img2)))\n",
    "  # plt.imshow(img2)\n",
    "  # plt.show()\n",
    "\n"
   ]
  },
  {
   "cell_type": "code",
   "execution_count": 107,
   "metadata": {},
   "outputs": [
    {
     "name": "stderr",
     "output_type": "stream",
     "text": [
      "100%|█████████████████████████████████████████| 100/100 [00:03<00:00, 26.96it/s]\n"
     ]
    }
   ],
   "source": [
    "list_images = []\n",
    "inter_images = []\n",
    "\n",
    "for i in tqdm(range(0, len(list_path_img)-1,3)):\n",
    "  img1 = cv2.imread(dir_images + list_path_img[i], cv2.IMREAD_GRAYSCALE)\n",
    "  img1 = cv2.resize(img1, (1912, 800))[200:600, 500:1750]\n",
    "  # plt.imshow(img1)\n",
    "  # plt.show()\n",
    "  img2 = cv2.imread(dir_images + list_path_img[i+1], cv2.IMREAD_GRAYSCALE)\n",
    "  img2 = cv2.resize(img2, (1912, 800))[200:600, 500:1750]\n",
    "  list_images.append(np.array((img1, img2)))\n",
    "\n",
    "  img3 = cv2.imread(dir_images + list_path_img[i+2], cv2.IMREAD_GRAYSCALE)\n",
    "  img3 = cv2.resize(img3, (1912, 800))[200:600, 500:1750]\n",
    "  list_images.append(np.array((img1, img2, img3)))\n",
    "  # plt.imshow(img2)"
   ]
  },
  {
   "cell_type": "code",
   "execution_count": 146,
   "metadata": {
    "colab": {
     "base_uri": "https://localhost:8080/"
    },
    "id": "3ZX9K88bG68V",
    "outputId": "a5a3586d-59f3-4e17-e25f-f116e5e277e0"
   },
   "outputs": [
    {
     "data": {
      "text/plain": [
       "(2, 400, 1250)"
      ]
     },
     "execution_count": 146,
     "metadata": {},
     "output_type": "execute_result"
    }
   ],
   "source": [
    "list_images[0].shape"
   ]
  },
  {
   "cell_type": "code",
   "execution_count": 147,
   "metadata": {
    "colab": {
     "base_uri": "https://localhost:8080/",
     "height": 529
    },
    "id": "Da9bu-fZ8Doo",
    "outputId": "5bd81779-13ed-472f-e344-74e88c50543c"
   },
   "outputs": [
    {
     "data": {
      "image/png": "[encoded data removed]",
      "text/plain": [
       "<Figure size 640x480 with 1 Axes>"
      ]
     },
     "metadata": {},
     "output_type": "display_data"
    },
    {
     "data": {
      "image/png": "[encoded data removed]",
      "text/plain": [
       "<Figure size 640x480 with 1 Axes>"
      ]
     },
     "metadata": {},
     "output_type": "display_data"
    }
   ],
   "source": [
    "i = 100\n",
    "\n",
    "plt.imshow(list_images[i][0])\n",
    "plt.show()\n",
    "plt.imshow(list_images[i][1])\n",
    "plt.show()"
   ]
  },
  {
   "cell_type": "code",
   "execution_count": null,
   "metadata": {
    "id": "j-mGo4iv8aA_"
   },
   "outputs": [],
   "source": []
  },
  {
   "cell_type": "code",
   "execution_count": 148,
   "metadata": {
    "id": "mrAEnJzQBPkP"
   },
   "outputs": [],
   "source": [
    "np_images = np.array(list_images)"
   ]
  },
  {
   "cell_type": "code",
   "execution_count": null,
   "metadata": {
    "id": "rXagqiqwIzvf"
   },
   "outputs": [],
   "source": []
  },
  {
   "cell_type": "markdown",
   "metadata": {
    "id": "IkXAhc4VI2Ol"
   },
   "source": [
    "LABELS"
   ]
  },
  {
   "cell_type": "code",
   "execution_count": 149,
   "metadata": {
    "colab": {
     "base_uri": "https://localhost:8080/"
    },
    "id": "pPqRaINoI6FM",
    "outputId": "fb31f912-c623-44c9-9172-b2b395325726"
   },
   "outputs": [
    {
     "name": "stderr",
     "output_type": "stream",
     "text": [
      "150it [00:00, 310535.83it/s]\n"
     ]
    }
   ],
   "source": [
    "size_label = 151\n",
    "\n",
    "Fx = [float(df['Fx'][i]) for i in range(len(df['Fx']))][1:size_label]\n",
    "Fy = [float(df['Fy'][i]) for i in range(len(df['Fy']))][1:size_label]\n",
    "\n",
    "labels_list = []\n",
    "\n",
    "for fx, fy in tqdm(zip(Fx,Fy)):\n",
    "  labels_list.append(np.array((fx,fy)))\n",
    "\n",
    "np_labels = np.array(labels_list)"
   ]
  },
  {
   "cell_type": "code",
   "execution_count": 150,
   "metadata": {
    "colab": {
     "base_uri": "https://localhost:8080/"
    },
    "id": "wy7pZ72AUVUd",
    "outputId": "c50860d6-3d3a-4398-c20f-5cc3e53b01c5"
   },
   "outputs": [
    {
     "name": "stdout",
     "output_type": "stream",
     "text": [
      "150\n"
     ]
    }
   ],
   "source": [
    "print(len(np_labels))"
   ]
  },
  {
   "cell_type": "code",
   "execution_count": 151,
   "metadata": {
    "id": "XOrfkwfxBzXK"
   },
   "outputs": [],
   "source": [
    "# # Map-style dataset return one sample of data by index\n",
    "\n",
    "# class CustomDataset(Dataset):\n",
    "#     def __init__(self, images_array, labels_array,transform=None, target_transform=None):\n",
    "\n",
    "#         self.images = images_array\n",
    "#         self.labels = labels_array\n",
    "\n",
    "#         self.transform = transform\n",
    "#         self.target_transform = target_transform\n",
    "\n",
    "#     def __len__(self):\n",
    "#         return len(self.labels)\n",
    "\n",
    "#     def __getitem__(self, idx):\n",
    "#         image = torch.Tensor(self.images[idx])\n",
    "#         label = torch.Tensor(self.labels[idx])\n",
    "        \n",
    "# #         image = torch.reshape(image,(8,128,128))\n",
    "# #         image = torch.reshape(image,(image.shape[0],image.shape[1],image.shape[3]))\n",
    "# #         image = self.transform(image)\n",
    "# #         if self.transform:\n",
    "# #             image = self.transform(image)\n",
    "# #         if self.target_transform:\n",
    "# #             label = self.target_transform(label)\n",
    "#         return image, label"
   ]
  },
  {
   "cell_type": "code",
   "execution_count": 152,
   "metadata": {},
   "outputs": [],
   "source": [
    "class CustomDataset(Dataset):\n",
    "    def __init__(self, images_array, targets_array, transform=None):\n",
    "        self.images = images_array\n",
    "        self.targets = targets_array\n",
    "        self.transform = transform\n",
    "\n",
    "    def __len__(self):\n",
    "        return len(self.targets)\n",
    "\n",
    "    def __getitem__(self, idx):\n",
    "        image = torch.Tensor(self.images[idx])\n",
    "        target = torch.Tensor(self.targets[idx])\n",
    "\n",
    "        if self.transform:\n",
    "            image = self.transform(image)\n",
    "\n",
    "        return image, target"
   ]
  },
  {
   "cell_type": "code",
   "execution_count": 171,
   "metadata": {},
   "outputs": [],
   "source": [
    "# Трансформации данных для обработки и нормализации изображений\n",
    "from torchvision import transforms\n",
    "\n",
    "transform = transforms.Compose([\n",
    "    transforms.ToPILImage(),\n",
    "    transforms.Resize((512, 512)),  # Примерное значение, можно использовать другой размер\n",
    "    transforms.ToTensor(),\n",
    "    transforms.Normalize((0.5,), (0.5,)),  # Нормализация для grayscale канала\n",
    "])\n",
    "\n",
    "# Создание датасета\n",
    "dataset = CustomDataset(np_images, np_labels, transform=transform)\n"
   ]
  },
  {
   "cell_type": "code",
   "execution_count": 172,
   "metadata": {},
   "outputs": [],
   "source": [
    "# Разделение на обучающую и тестовую выборку\n",
    "train_size = int(0.8 * len(dataset))\n",
    "test_size = len(dataset) - train_size\n",
    "train_dataset, test_dataset = torch.utils.data.random_split(dataset, [train_size, test_size])\n",
    "\n",
    "# Загрузчики данных"
   ]
  },
  {
   "cell_type": "code",
   "execution_count": 173,
   "metadata": {},
   "outputs": [],
   "source": [
    "train_loader = DataLoader(train_dataset, batch_size=32, shuffle=True)\n",
    "test_loader = DataLoader(test_dataset, batch_size=32, shuffle=False)"
   ]
  },
  {
   "cell_type": "code",
   "execution_count": 174,
   "metadata": {},
   "outputs": [],
   "source": [
    "# Определение модели\n",
    "class RegressionModel(nn.Module):\n",
    "    def __init__(self):\n",
    "        super(RegressionModel, self).__init__()\n",
    "        self.conv1 = nn.Conv2d(2, 16, 3, padding=1)\n",
    "        self.relu = nn.ReLU()\n",
    "        self.pool = nn.MaxPool2d(2, 2)\n",
    "        self.fc1 = nn.Linear(16 * 64 * 64, 128)\n",
    "        self.fc2 = nn.Linear(128, 2)\n",
    "\n",
    "    def forward(self, x):\n",
    "        x = self.pool(self.relu(self.conv1(x)))\n",
    "        x = x.view(-1, 16 * 64 * 64)\n",
    "        x = self.relu(self.fc1(x))\n",
    "        x = self.fc2(x)\n",
    "        return x"
   ]
  },
  {
   "cell_type": "code",
   "execution_count": 175,
   "metadata": {},
   "outputs": [],
   "source": [
    "model = RegressionModel()\n",
    "criterion = nn.MSELoss()\n",
    "optimizer = optim.Adam(model.parameters(), lr=0.001)"
   ]
  },
  {
   "cell_type": "code",
   "execution_count": 176,
   "metadata": {},
   "outputs": [
    {
     "name": "stderr",
     "output_type": "stream",
     "text": [
      "  0%|                                                     | 0/4 [00:00<?, ?it/s]/Library/Frameworks/Python.framework/Versions/3.10/lib/python3.10/site-packages/torch/nn/modules/loss.py:530: UserWarning: Using a target size (torch.Size([32, 2])) that is different to the input size (torch.Size([512, 2])). This will likely lead to incorrect results due to broadcasting. Please ensure they have the same size.\n",
      "  return F.mse_loss(input, target, reduction=self.reduction)\n",
      "  0%|                                                     | 0/4 [00:02<?, ?it/s]\n"
     ]
    },
    {
     "ename": "RuntimeError",
     "evalue": "The size of tensor a (512) must match the size of tensor b (32) at non-singleton dimension 0",
     "output_type": "error",
     "traceback": [
      "\u001b[0;31m---------------------------------------------------------------------------\u001b[0m",
      "\u001b[0;31mRuntimeError\u001b[0m                              Traceback (most recent call last)",
      "Cell \u001b[0;32mIn[176], line 10\u001b[0m\n\u001b[1;32m      8\u001b[0m optimizer\u001b[38;5;241m.\u001b[39mzero_grad()\n\u001b[1;32m      9\u001b[0m outputs \u001b[38;5;241m=\u001b[39m model(inputs)\n\u001b[0;32m---> 10\u001b[0m loss \u001b[38;5;241m=\u001b[39m \u001b[43mcriterion\u001b[49m\u001b[43m(\u001b[49m\u001b[43moutputs\u001b[49m\u001b[43m,\u001b[49m\u001b[43m \u001b[49m\u001b[43mtargets\u001b[49m\u001b[43m)\u001b[49m\n\u001b[1;32m     11\u001b[0m loss\u001b[38;5;241m.\u001b[39mbackward()\n\u001b[1;32m     12\u001b[0m optimizer\u001b[38;5;241m.\u001b[39mstep()\n",
      "File \u001b[0;32m/Library/Frameworks/Python.framework/Versions/3.10/lib/python3.10/site-packages/torch/nn/modules/module.py:1130\u001b[0m, in \u001b[0;36mModule._call_impl\u001b[0;34m(self, *input, **kwargs)\u001b[0m\n\u001b[1;32m   1126\u001b[0m \u001b[38;5;66;03m# If we don't have any hooks, we want to skip the rest of the logic in\u001b[39;00m\n\u001b[1;32m   1127\u001b[0m \u001b[38;5;66;03m# this function, and just call forward.\u001b[39;00m\n\u001b[1;32m   1128\u001b[0m \u001b[38;5;28;01mif\u001b[39;00m \u001b[38;5;129;01mnot\u001b[39;00m (\u001b[38;5;28mself\u001b[39m\u001b[38;5;241m.\u001b[39m_backward_hooks \u001b[38;5;129;01mor\u001b[39;00m \u001b[38;5;28mself\u001b[39m\u001b[38;5;241m.\u001b[39m_forward_hooks \u001b[38;5;129;01mor\u001b[39;00m \u001b[38;5;28mself\u001b[39m\u001b[38;5;241m.\u001b[39m_forward_pre_hooks \u001b[38;5;129;01mor\u001b[39;00m _global_backward_hooks\n\u001b[1;32m   1129\u001b[0m         \u001b[38;5;129;01mor\u001b[39;00m _global_forward_hooks \u001b[38;5;129;01mor\u001b[39;00m _global_forward_pre_hooks):\n\u001b[0;32m-> 1130\u001b[0m     \u001b[38;5;28;01mreturn\u001b[39;00m \u001b[43mforward_call\u001b[49m\u001b[43m(\u001b[49m\u001b[38;5;241;43m*\u001b[39;49m\u001b[38;5;28;43minput\u001b[39;49m\u001b[43m,\u001b[49m\u001b[43m \u001b[49m\u001b[38;5;241;43m*\u001b[39;49m\u001b[38;5;241;43m*\u001b[39;49m\u001b[43mkwargs\u001b[49m\u001b[43m)\u001b[49m\n\u001b[1;32m   1131\u001b[0m \u001b[38;5;66;03m# Do not call functions when jit is used\u001b[39;00m\n\u001b[1;32m   1132\u001b[0m full_backward_hooks, non_full_backward_hooks \u001b[38;5;241m=\u001b[39m [], []\n",
      "File \u001b[0;32m/Library/Frameworks/Python.framework/Versions/3.10/lib/python3.10/site-packages/torch/nn/modules/loss.py:530\u001b[0m, in \u001b[0;36mMSELoss.forward\u001b[0;34m(self, input, target)\u001b[0m\n\u001b[1;32m    529\u001b[0m \u001b[38;5;28;01mdef\u001b[39;00m \u001b[38;5;21mforward\u001b[39m(\u001b[38;5;28mself\u001b[39m, \u001b[38;5;28minput\u001b[39m: Tensor, target: Tensor) \u001b[38;5;241m-\u001b[39m\u001b[38;5;241m>\u001b[39m Tensor:\n\u001b[0;32m--> 530\u001b[0m     \u001b[38;5;28;01mreturn\u001b[39;00m \u001b[43mF\u001b[49m\u001b[38;5;241;43m.\u001b[39;49m\u001b[43mmse_loss\u001b[49m\u001b[43m(\u001b[49m\u001b[38;5;28;43minput\u001b[39;49m\u001b[43m,\u001b[49m\u001b[43m \u001b[49m\u001b[43mtarget\u001b[49m\u001b[43m,\u001b[49m\u001b[43m \u001b[49m\u001b[43mreduction\u001b[49m\u001b[38;5;241;43m=\u001b[39;49m\u001b[38;5;28;43mself\u001b[39;49m\u001b[38;5;241;43m.\u001b[39;49m\u001b[43mreduction\u001b[49m\u001b[43m)\u001b[49m\n",
      "File \u001b[0;32m/Library/Frameworks/Python.framework/Versions/3.10/lib/python3.10/site-packages/torch/nn/functional.py:3279\u001b[0m, in \u001b[0;36mmse_loss\u001b[0;34m(input, target, size_average, reduce, reduction)\u001b[0m\n\u001b[1;32m   3276\u001b[0m \u001b[38;5;28;01mif\u001b[39;00m size_average \u001b[38;5;129;01mis\u001b[39;00m \u001b[38;5;129;01mnot\u001b[39;00m \u001b[38;5;28;01mNone\u001b[39;00m \u001b[38;5;129;01mor\u001b[39;00m reduce \u001b[38;5;129;01mis\u001b[39;00m \u001b[38;5;129;01mnot\u001b[39;00m \u001b[38;5;28;01mNone\u001b[39;00m:\n\u001b[1;32m   3277\u001b[0m     reduction \u001b[38;5;241m=\u001b[39m _Reduction\u001b[38;5;241m.\u001b[39mlegacy_get_string(size_average, reduce)\n\u001b[0;32m-> 3279\u001b[0m expanded_input, expanded_target \u001b[38;5;241m=\u001b[39m \u001b[43mtorch\u001b[49m\u001b[38;5;241;43m.\u001b[39;49m\u001b[43mbroadcast_tensors\u001b[49m\u001b[43m(\u001b[49m\u001b[38;5;28;43minput\u001b[39;49m\u001b[43m,\u001b[49m\u001b[43m \u001b[49m\u001b[43mtarget\u001b[49m\u001b[43m)\u001b[49m\n\u001b[1;32m   3280\u001b[0m \u001b[38;5;28;01mreturn\u001b[39;00m torch\u001b[38;5;241m.\u001b[39m_C\u001b[38;5;241m.\u001b[39m_nn\u001b[38;5;241m.\u001b[39mmse_loss(expanded_input, expanded_target, _Reduction\u001b[38;5;241m.\u001b[39mget_enum(reduction))\n",
      "File \u001b[0;32m/Library/Frameworks/Python.framework/Versions/3.10/lib/python3.10/site-packages/torch/functional.py:73\u001b[0m, in \u001b[0;36mbroadcast_tensors\u001b[0;34m(*tensors)\u001b[0m\n\u001b[1;32m     71\u001b[0m \u001b[38;5;28;01mif\u001b[39;00m has_torch_function(tensors):\n\u001b[1;32m     72\u001b[0m     \u001b[38;5;28;01mreturn\u001b[39;00m handle_torch_function(broadcast_tensors, tensors, \u001b[38;5;241m*\u001b[39mtensors)\n\u001b[0;32m---> 73\u001b[0m \u001b[38;5;28;01mreturn\u001b[39;00m \u001b[43m_VF\u001b[49m\u001b[38;5;241;43m.\u001b[39;49m\u001b[43mbroadcast_tensors\u001b[49m\u001b[43m(\u001b[49m\u001b[43mtensors\u001b[49m\u001b[43m)\u001b[49m\n",
      "\u001b[0;31mRuntimeError\u001b[0m: The size of tensor a (512) must match the size of tensor b (32) at non-singleton dimension 0"
     ]
    }
   ],
   "source": [
    "num_epochs = 2\n",
    "\n",
    "for epoch in range(num_epochs):\n",
    "    model.train()\n",
    "    running_loss = 0.0\n",
    "\n",
    "    for inputs, targets in tqdm(train_loader):\n",
    "        optimizer.zero_grad()\n",
    "        outputs = model(inputs)\n",
    "        loss = criterion(outputs, targets)\n",
    "        loss.backward()\n",
    "        optimizer.step()\n",
    "\n",
    "        running_loss += loss.item()\n",
    "\n",
    "    print(f\"Epoch {epoch+1}/{num_epochs}, Loss: {running_loss/len(train_loader)}\")\n"
   ]
  },
  {
   "cell_type": "code",
   "execution_count": 106,
   "metadata": {},
   "outputs": [
    {
     "name": "stderr",
     "output_type": "stream",
     "text": [
      "100%|█████████████████████████████████████████████| 1/1 [00:00<00:00,  2.06it/s]"
     ]
    },
    {
     "name": "stdout",
     "output_type": "stream",
     "text": [
      "Test Loss: 2.0420162677764893\n",
      "Predicted values:\n",
      "[[0.00882821 0.02804697]\n",
      " [0.00882821 0.02804697]\n",
      " [0.00882821 0.02804697]\n",
      " [0.00882821 0.02804697]\n",
      " [0.00882821 0.02804697]\n",
      " [0.00851481 0.02839022]\n",
      " [0.00882821 0.02804697]\n",
      " [0.00882821 0.02804697]\n",
      " [0.00882821 0.02804697]\n",
      " [0.00882821 0.02804697]\n",
      " [0.00882821 0.02804697]\n",
      " [0.00882821 0.02804697]\n",
      " [0.00882821 0.02804697]\n",
      " [0.00882821 0.02804697]\n",
      " [0.00882821 0.02804697]\n",
      " [0.00882821 0.02804697]\n",
      " [0.00882821 0.02804697]\n",
      " [0.00882821 0.02804697]\n",
      " [0.00882821 0.02804697]\n",
      " [0.00882821 0.02804697]\n",
      " [0.00882821 0.02804697]\n",
      " [0.00882821 0.02804697]\n",
      " [0.00882821 0.02804697]\n",
      " [0.00882821 0.02804697]\n",
      " [0.00882821 0.02804697]\n",
      " [0.00882821 0.02804697]\n",
      " [0.00882821 0.02804697]\n",
      " [0.00882821 0.02804697]\n",
      " [0.00882821 0.02804697]\n",
      " [0.00882821 0.02804697]]\n",
      "True values:\n",
      "[[1.28281999 1.47729003]\n",
      " [1.27827001 1.44960999]\n",
      " [1.27572    1.42914999]\n",
      " [1.27865005 1.46073997]\n",
      " [1.27441001 1.43043005]\n",
      " [1.31698    1.75093997]\n",
      " [1.28298998 1.48093998]\n",
      " [1.27549005 1.44207001]\n",
      " [1.27625    1.44555998]\n",
      " [1.28494    1.55488002]\n",
      " [1.30113006 1.57772005]\n",
      " [1.30408001 1.61017001]\n",
      " [1.27789998 1.47723997]\n",
      " [1.27098    1.40409005]\n",
      " [1.33469999 1.88652003]\n",
      " [1.28465998 1.49225998]\n",
      " [1.27960002 1.45296001]\n",
      " [1.29916    1.56910002]\n",
      " [1.27332997 1.42127001]\n",
      " [1.34204996 1.93768001]\n",
      " [1.28434002 1.52509999]\n",
      " [1.36438    2.11794996]\n",
      " [1.28504002 1.49127996]\n",
      " [1.27736998 1.45359004]\n",
      " [1.29363    1.56289995]\n",
      " [1.35131001 2.03459001]\n",
      " [1.28322995 1.48493004]\n",
      " [1.31649995 1.80818999]\n",
      " [1.29062998 1.54896998]\n",
      " [1.28454995 1.49769998]]\n"
     ]
    },
    {
     "name": "stderr",
     "output_type": "stream",
     "text": [
      "\n"
     ]
    }
   ],
   "source": [
    "# Оценка модели на тестовых данных\n",
    "model.eval()\n",
    "test_loss = 0.0\n",
    "\n",
    "with torch.no_grad():\n",
    "    predictions = []\n",
    "    targets_list = []\n",
    "\n",
    "    for inputs, targets in tqdm(test_loader):\n",
    "        outputs = model(inputs)\n",
    "        loss = criterion(outputs, targets)\n",
    "        test_loss += loss.item()\n",
    "\n",
    "        # Добавляем предсказанные значения в список predictions\n",
    "        predictions.extend(outputs.tolist())\n",
    "        # Добавляем истинные значения регрессии в список targets_list\n",
    "        targets_list.extend(targets.tolist())\n",
    "\n",
    "print(f\"Test Loss: {test_loss / len(test_loader)}\")\n",
    "\n",
    "# Преобразуем списки в numpy массивы для дальнейшего анализа\n",
    "predictions = np.array(predictions)\n",
    "targets_array = np.array(targets_list)\n",
    "\n",
    "# Выведем предсказанные значения и истинные значения регрессии\n",
    "print(\"Predicted values:\")\n",
    "print(predictions)\n",
    "\n",
    "print(\"True values:\")\n",
    "print(targets_array)\n"
   ]
  },
  {
   "cell_type": "markdown",
   "metadata": {},
   "source": [
    "# BACKBONE"
   ]
  },
  {
   "cell_type": "code",
   "execution_count": 264,
   "metadata": {},
   "outputs": [],
   "source": [
    "# Трансформации данных для обработки и нормализации изображений\n",
    "transform = transforms.Compose([\n",
    "    transforms.ToPILImage(),\n",
    "    transforms.Resize((1024, 512)),  # Приведение всех изображений к разрешению 1920x800\n",
    "    transforms.ToTensor(),\n",
    "    transforms.Normalize((0.5,), (0.5,)),  # Нормализация для grayscale канала\n",
    "])\n"
   ]
  },
  {
   "cell_type": "code",
   "execution_count": 265,
   "metadata": {},
   "outputs": [
    {
     "name": "stderr",
     "output_type": "stream",
     "text": [
      "100%|█████████████████████████████████████████| 100/100 [00:04<00:00, 21.46it/s]\n"
     ]
    }
   ],
   "source": [
    "list_images = []\n",
    "\n",
    "for i in tqdm(range(0, len(list_path_img)-1,3)):\n",
    "  img1 = cv2.imread(dir_images + list_path_img[i], cv2.IMREAD_GRAYSCALE)\n",
    "  img1 = cv2.resize(img1, (1912, 800))[200:600, 500:1750]\n",
    "  # plt.imshow(img1)\n",
    "  # plt.show()\n",
    "  img2 = cv2.imread(dir_images + list_path_img[i+1], cv2.IMREAD_GRAYSCALE)\n",
    "  img2 = cv2.resize(img2, (1912, 800))[200:600, 500:1750]\n",
    "\n",
    "  img3 = cv2.imread(dir_images + list_path_img[i+2], cv2.IMREAD_GRAYSCALE)\n",
    "  img3 = cv2.resize(img3, (1912, 800))[200:600, 500:1750]\n",
    "  list_images.append(np.array((img1, img2, img3)))\n",
    "  # plt.imshow(img2)\n",
    "\n",
    "np_images = np.array(list_images)"
   ]
  },
  {
   "cell_type": "code",
   "execution_count": 266,
   "metadata": {},
   "outputs": [
    {
     "data": {
      "image/png": "[encoded data removed]",
      "text/plain": [
       "<Figure size 1600x1600 with 3 Axes>"
      ]
     },
     "metadata": {},
     "output_type": "display_data"
    }
   ],
   "source": [
    "i = 30\n",
    "\n",
    "fig, axes = plt.subplots(nrows=1, ncols=3, figsize=(16,16))\n",
    "\n",
    "axes[0].imshow(np_images[i][0])\n",
    "axes[1].imshow(np_images[i][1])\n",
    "axes[2].imshow(np_images[i][2])\n",
    "\n",
    "plt.show()"
   ]
  },
  {
   "cell_type": "code",
   "execution_count": 267,
   "metadata": {},
   "outputs": [
    {
     "data": {
      "text/plain": [
       "(3, 400, 1250)"
      ]
     },
     "execution_count": 267,
     "metadata": {},
     "output_type": "execute_result"
    }
   ],
   "source": [
    "np_images[0].shape"
   ]
  },
  {
   "cell_type": "code",
   "execution_count": 273,
   "metadata": {},
   "outputs": [],
   "source": [
    "dir_images = '/Users/nikitakamenev/Documents/dataset/scince/data_image/wing_10_11/'\n",
    "list_path_img = sorted(os.listdir(dir_images))\n",
    "\n",
    "dir_force_csv = '/Users/nikitakamenev/Documents/dataset/scince/data_image/forces-airfoil-0.csv'\n",
    "df = pd.read_csv(dir_force_csv)"
   ]
  },
  {
   "cell_type": "code",
   "execution_count": 272,
   "metadata": {},
   "outputs": [
    {
     "name": "stdout",
     "output_type": "stream",
     "text": [
      "85.8021 -0.110929\n"
     ]
    },
    {
     "data": {
      "text/html": [
       "<div>\n",
       "<style scoped>\n",
       "    .dataframe tbody tr th:only-of-type {\n",
       "        vertical-align: middle;\n",
       "    }\n",
       "\n",
       "    .dataframe tbody tr th {\n",
       "        vertical-align: top;\n",
       "    }\n",
       "\n",
       "    .dataframe thead th {\n",
       "        text-align: right;\n",
       "    }\n",
       "</style>\n",
       "<table border=\"1\" class=\"dataframe\">\n",
       "  <thead>\n",
       "    <tr style=\"text-align: right;\">\n",
       "      <th></th>\n",
       "      <th>t</th>\n",
       "      <th>Fx</th>\n",
       "      <th>Fy</th>\n",
       "      <th>Mz</th>\n",
       "      <th>Ftaux</th>\n",
       "      <th>Ftauy</th>\n",
       "      <th>Mtau</th>\n",
       "    </tr>\n",
       "  </thead>\n",
       "  <tbody>\n",
       "    <tr>\n",
       "      <th>0</th>\n",
       "      <td>0.001</td>\n",
       "      <td>0.000000</td>\n",
       "      <td>0.000000</td>\n",
       "      <td>0.000000</td>\n",
       "      <td>0.000000</td>\n",
       "      <td>0.000000</td>\n",
       "      <td>0.000000</td>\n",
       "    </tr>\n",
       "    <tr>\n",
       "      <th>1</th>\n",
       "      <td>0.002</td>\n",
       "      <td>0.066877</td>\n",
       "      <td>0.016674</td>\n",
       "      <td>-0.011931</td>\n",
       "      <td>0.000000</td>\n",
       "      <td>0.000000</td>\n",
       "      <td>0.000000</td>\n",
       "    </tr>\n",
       "    <tr>\n",
       "      <th>2</th>\n",
       "      <td>0.003</td>\n",
       "      <td>0.066887</td>\n",
       "      <td>0.016681</td>\n",
       "      <td>-0.011841</td>\n",
       "      <td>0.001074</td>\n",
       "      <td>-0.000140</td>\n",
       "      <td>-0.000013</td>\n",
       "    </tr>\n",
       "    <tr>\n",
       "      <th>3</th>\n",
       "      <td>0.004</td>\n",
       "      <td>0.066902</td>\n",
       "      <td>0.016690</td>\n",
       "      <td>-0.011741</td>\n",
       "      <td>0.002158</td>\n",
       "      <td>-0.000282</td>\n",
       "      <td>-0.000026</td>\n",
       "    </tr>\n",
       "    <tr>\n",
       "      <th>4</th>\n",
       "      <td>0.005</td>\n",
       "      <td>0.066923</td>\n",
       "      <td>0.016710</td>\n",
       "      <td>-0.011325</td>\n",
       "      <td>0.003254</td>\n",
       "      <td>-0.000425</td>\n",
       "      <td>-0.000039</td>\n",
       "    </tr>\n",
       "    <tr>\n",
       "      <th>...</th>\n",
       "      <td>...</td>\n",
       "      <td>...</td>\n",
       "      <td>...</td>\n",
       "      <td>...</td>\n",
       "      <td>...</td>\n",
       "      <td>...</td>\n",
       "      <td>...</td>\n",
       "    </tr>\n",
       "    <tr>\n",
       "      <th>4995</th>\n",
       "      <td>4.996</td>\n",
       "      <td>0.445227</td>\n",
       "      <td>0.611737</td>\n",
       "      <td>-10.626200</td>\n",
       "      <td>0.502824</td>\n",
       "      <td>-0.092453</td>\n",
       "      <td>0.043798</td>\n",
       "    </tr>\n",
       "    <tr>\n",
       "      <th>4996</th>\n",
       "      <td>4.997</td>\n",
       "      <td>0.479659</td>\n",
       "      <td>0.655630</td>\n",
       "      <td>-10.564600</td>\n",
       "      <td>0.513078</td>\n",
       "      <td>-0.092435</td>\n",
       "      <td>0.043615</td>\n",
       "    </tr>\n",
       "    <tr>\n",
       "      <th>4997</th>\n",
       "      <td>4.998</td>\n",
       "      <td>0.456789</td>\n",
       "      <td>0.630368</td>\n",
       "      <td>-10.561500</td>\n",
       "      <td>0.508880</td>\n",
       "      <td>-0.091396</td>\n",
       "      <td>0.043093</td>\n",
       "    </tr>\n",
       "    <tr>\n",
       "      <th>4998</th>\n",
       "      <td>4.999</td>\n",
       "      <td>0.456209</td>\n",
       "      <td>0.629506</td>\n",
       "      <td>-10.295700</td>\n",
       "      <td>0.513117</td>\n",
       "      <td>-0.093429</td>\n",
       "      <td>0.040491</td>\n",
       "    </tr>\n",
       "    <tr>\n",
       "      <th>4999</th>\n",
       "      <td>5.000</td>\n",
       "      <td>0.476948</td>\n",
       "      <td>0.652300</td>\n",
       "      <td>-10.542100</td>\n",
       "      <td>0.487850</td>\n",
       "      <td>-0.086454</td>\n",
       "      <td>0.036503</td>\n",
       "    </tr>\n",
       "  </tbody>\n",
       "</table>\n",
       "<p>5000 rows × 7 columns</p>\n",
       "</div>"
      ],
      "text/plain": [
       "          t        Fx        Fy         Mz     Ftaux     Ftauy      Mtau\n",
       "0     0.001  0.000000  0.000000   0.000000  0.000000  0.000000  0.000000\n",
       "1     0.002  0.066877  0.016674  -0.011931  0.000000  0.000000  0.000000\n",
       "2     0.003  0.066887  0.016681  -0.011841  0.001074 -0.000140 -0.000013\n",
       "3     0.004  0.066902  0.016690  -0.011741  0.002158 -0.000282 -0.000026\n",
       "4     0.005  0.066923  0.016710  -0.011325  0.003254 -0.000425 -0.000039\n",
       "...     ...       ...       ...        ...       ...       ...       ...\n",
       "4995  4.996  0.445227  0.611737 -10.626200  0.502824 -0.092453  0.043798\n",
       "4996  4.997  0.479659  0.655630 -10.564600  0.513078 -0.092435  0.043615\n",
       "4997  4.998  0.456789  0.630368 -10.561500  0.508880 -0.091396  0.043093\n",
       "4998  4.999  0.456209  0.629506 -10.295700  0.513117 -0.093429  0.040491\n",
       "4999  5.000  0.476948  0.652300 -10.542100  0.487850 -0.086454  0.036503\n",
       "\n",
       "[5000 rows x 7 columns]"
      ]
     },
     "execution_count": 272,
     "metadata": {},
     "output_type": "execute_result"
    }
   ],
   "source": [
    "max_force = max(max(df['Fy']), max(df['Fx']))\n",
    "min_force = min(min(df['Fy']), min(df['Fx']))\n",
    "\n",
    "max_force_X = max(df['Fx'])\n",
    "max_force_Y = max(df['Fy'])\n",
    "print(max_force, min_force)\n",
    "\n",
    "df['Fx'] = df['Fx']/max_force_X\n",
    "df['Fy'] = df['Fy']/max_force_Y\n",
    "\n",
    "df"
   ]
  },
  {
   "cell_type": "code",
   "execution_count": 274,
   "metadata": {},
   "outputs": [
    {
     "name": "stderr",
     "output_type": "stream",
     "text": [
      "100it [00:00, 315598.50it/s]\n"
     ]
    }
   ],
   "source": [
    "size_label = 101\n",
    "\n",
    "Fx = [float(df['Fx'][i]) for i in range(len(df['Fx']))][1:size_label]\n",
    "Fy = [float(df['Fy'][i]) for i in range(len(df['Fy']))][1:size_label]\n",
    "\n",
    "labels_list = []\n",
    "\n",
    "for fx, fy in tqdm(zip(Fx,Fy)):\n",
    "  labels_list.append(np.array((fx,fy)))\n",
    "\n",
    "np_labels = np.array(labels_list)"
   ]
  },
  {
   "cell_type": "code",
   "execution_count": 275,
   "metadata": {},
   "outputs": [
    {
     "data": {
      "text/plain": [
       "array([1.27625, 1.44556])"
      ]
     },
     "execution_count": 275,
     "metadata": {},
     "output_type": "execute_result"
    }
   ],
   "source": [
    "np_labels[10]"
   ]
  },
  {
   "cell_type": "code",
   "execution_count": null,
   "metadata": {},
   "outputs": [],
   "source": []
  },
  {
   "cell_type": "code",
   "execution_count": 276,
   "metadata": {},
   "outputs": [],
   "source": [
    "dataset = CustomDataset(np_images, np_labels, transform=transform)"
   ]
  },
  {
   "cell_type": "code",
   "execution_count": 277,
   "metadata": {},
   "outputs": [],
   "source": [
    "# Разделение на обучающую и тестовую выборку\n",
    "train_size = int(0.8 * len(dataset))\n",
    "test_size = len(dataset) - train_size\n",
    "train_dataset, test_dataset = torch.utils.data.random_split(dataset, [train_size, test_size])\n",
    "\n",
    "# Загрузчики данных"
   ]
  },
  {
   "cell_type": "code",
   "execution_count": 278,
   "metadata": {},
   "outputs": [],
   "source": [
    "train_loader = DataLoader(train_dataset, batch_size=32, shuffle=True)\n",
    "test_loader = DataLoader(test_dataset, batch_size=32, shuffle=False)"
   ]
  },
  {
   "cell_type": "code",
   "execution_count": null,
   "metadata": {},
   "outputs": [],
   "source": []
  },
  {
   "cell_type": "code",
   "execution_count": 279,
   "metadata": {},
   "outputs": [
    {
     "name": "stderr",
     "output_type": "stream",
     "text": [
      "/Library/Frameworks/Python.framework/Versions/3.10/lib/python3.10/site-packages/torchvision/models/_utils.py:208: UserWarning: The parameter 'pretrained' is deprecated since 0.13 and will be removed in 0.15, please use 'weights' instead.\n",
      "  warnings.warn(\n",
      "/Library/Frameworks/Python.framework/Versions/3.10/lib/python3.10/site-packages/torchvision/models/_utils.py:223: UserWarning: Arguments other than a weight enum or `None` for 'weights' are deprecated since 0.13 and will be removed in 0.15. The current behavior is equivalent to passing `weights=ResNet18_Weights.IMAGENET1K_V1`. You can also use `weights=ResNet18_Weights.DEFAULT` to get the most up-to-date weights.\n",
      "  warnings.warn(msg)\n"
     ]
    }
   ],
   "source": [
    "from torchvision.models import resnet18, resnet50\n",
    "from torchvision import transforms, models\n",
    "\n",
    "class RegressionModel(nn.Module):\n",
    "    def __init__(self):\n",
    "        super(RegressionModel, self).__init__()\n",
    "        resnet = models.resnet18(pretrained=True)\n",
    "        resnet.conv1 = nn.Conv2d(3, 64, kernel_size=7, stride=2, padding=3,\n",
    "                                 bias=False)  # Задаем свой первый сверточный слой с тремя входными каналами\n",
    "        self.backbone = nn.Sequential(*list(resnet.children())[:-2])  # Используем все слои, кроме последних двух\n",
    "\n",
    "        # Определение своих слоев для регрессии на основе выхода ResNet-18\n",
    "        self.relu = nn.ReLU()\n",
    "        self.pool = nn.AdaptiveAvgPool2d((1, 1))  # Глобальный пулинг\n",
    "        self.fc1 = nn.Linear(512, 128)  # Предполагая, что размер выхода backbone равен 512\n",
    "        self.fc2 = nn.Linear(128, 2)\n",
    "\n",
    "    def forward(self, x):\n",
    "        x = self.backbone(x)\n",
    "        x = self.pool(x)\n",
    "        x = x.view(-1, 512)\n",
    "        x = self.relu(self.fc1(x))\n",
    "        x = self.fc2(x)\n",
    "        return x\n",
    "\n",
    "\n",
    "\n",
    "model = RegressionModel()\n",
    "criterion = nn.MSELoss()\n",
    "optimizer = optim.Adam(model.parameters(), lr=0.001)\n"
   ]
  },
  {
   "cell_type": "code",
   "execution_count": 280,
   "metadata": {},
   "outputs": [
    {
     "name": "stderr",
     "output_type": "stream",
     "text": [
      "100%|█████████████████████████████████████████████| 3/3 [02:58<00:00, 59.37s/it]\n"
     ]
    },
    {
     "name": "stdout",
     "output_type": "stream",
     "text": [
      "Epoch 1/3, Loss: 0.8088733963668346\n"
     ]
    },
    {
     "name": "stderr",
     "output_type": "stream",
     "text": [
      "100%|█████████████████████████████████████████████| 3/3 [02:54<00:00, 58.32s/it]\n"
     ]
    },
    {
     "name": "stdout",
     "output_type": "stream",
     "text": [
      "Epoch 2/3, Loss: 0.23244002709786096\n"
     ]
    },
    {
     "name": "stderr",
     "output_type": "stream",
     "text": [
      "100%|█████████████████████████████████████████████| 3/3 [02:58<00:00, 59.46s/it]"
     ]
    },
    {
     "name": "stdout",
     "output_type": "stream",
     "text": [
      "Epoch 3/3, Loss: 0.015462713316082954\n"
     ]
    },
    {
     "name": "stderr",
     "output_type": "stream",
     "text": [
      "\n"
     ]
    }
   ],
   "source": [
    "num_epochs = 3\n",
    "\n",
    "for epoch in range(num_epochs):\n",
    "    model.train()\n",
    "    running_loss = 0.0\n",
    "\n",
    "    for inputs, targets in tqdm(train_loader):\n",
    "        optimizer.zero_grad()\n",
    "        outputs = model(inputs)\n",
    "        loss = criterion(outputs, targets)\n",
    "        loss.backward()\n",
    "        optimizer.step()\n",
    "\n",
    "        running_loss += loss.item()\n",
    "\n",
    "    print(f\"Epoch {epoch+1}/{num_epochs}, Loss: {running_loss/len(train_loader)}\")\n"
   ]
  },
  {
   "cell_type": "code",
   "execution_count": 281,
   "metadata": {},
   "outputs": [
    {
     "name": "stderr",
     "output_type": "stream",
     "text": [
      "100%|█████████████████████████████████████████████| 1/1 [00:13<00:00, 13.14s/it]"
     ]
    },
    {
     "name": "stdout",
     "output_type": "stream",
     "text": [
      "Test Loss: 0.012652355246245861\n",
      "Predicted values:\n",
      "[[1.15582728 1.47539556]\n",
      " [1.18365192 1.45939553]\n",
      " [1.19490063 1.50197411]\n",
      " [1.19112074 1.49202335]\n",
      " [1.20447481 1.51427758]\n",
      " [1.14340937 1.45693839]\n",
      " [1.20349455 1.47528136]\n",
      " [1.07179821 1.39731896]\n",
      " [1.17181134 1.49051559]\n",
      " [1.21471643 1.53277886]\n",
      " [1.18676305 1.49022079]\n",
      " [1.17001688 1.49618375]\n",
      " [1.19283962 1.48561049]\n",
      " [1.19115651 1.49946058]\n",
      " [1.18749475 1.48562133]\n",
      " [1.22509325 1.56005323]\n",
      " [1.17210245 1.4812721 ]\n",
      " [1.18463159 1.46317327]\n",
      " [1.15278471 1.46355104]\n",
      " [1.08989894 1.38262391]]\n",
      "True values:\n",
      "[[1.28038001 1.47262001]\n",
      " [1.30689001 1.64968002]\n",
      " [1.28281999 1.47729003]\n",
      " [1.26566005 1.36851001]\n",
      " [1.28298998 1.48093998]\n",
      " [1.29394996 1.56219006]\n",
      " [1.27471006 1.43175006]\n",
      " [1.27098    1.40409005]\n",
      " [1.29363    1.56289995]\n",
      " [1.27579999 1.43805003]\n",
      " [1.28521001 1.49609995]\n",
      " [1.29899001 1.64042997]\n",
      " [1.26887    1.40495002]\n",
      " [1.28284001 1.47923005]\n",
      " [1.30482996 1.62292004]\n",
      " [1.27424002 1.43666995]\n",
      " [1.29077005 1.58124006]\n",
      " [1.29326999 1.54040003]\n",
      " [1.28324997 1.47139001]\n",
      " [1.30104995 1.64243996]]\n"
     ]
    },
    {
     "name": "stderr",
     "output_type": "stream",
     "text": [
      "\n"
     ]
    }
   ],
   "source": [
    "# Оценка модели на тестовых данных\n",
    "model.eval()\n",
    "test_loss = 0.0\n",
    "\n",
    "with torch.no_grad():\n",
    "    predictions = []\n",
    "    targets_list = []\n",
    "\n",
    "    for inputs, targets in tqdm(test_loader):\n",
    "        outputs = model(inputs)\n",
    "        loss = criterion(outputs, targets)\n",
    "        test_loss += loss.item()\n",
    "\n",
    "        # Добавляем предсказанные значения в список predictions\n",
    "        predictions.extend(outputs.tolist())\n",
    "        # Добавляем истинные значения регрессии в список targets_list\n",
    "        targets_list.extend(targets.tolist())\n",
    "\n",
    "print(f\"Test Loss: {test_loss / len(test_loader)}\")\n",
    "\n",
    "# Преобразуем списки в numpy массивы для дальнейшего анализа\n",
    "predictions = np.array(predictions)\n",
    "targets_array = np.array(targets_list)\n",
    "\n",
    "# Выведем предсказанные значения и истинные значения регрессии\n",
    "print(\"Predicted values:\")\n",
    "print(predictions)\n",
    "\n",
    "print(\"True values:\")\n",
    "print(targets_array)"
   ]
  },
  {
   "cell_type": "code",
   "execution_count": 283,
   "metadata": {},
   "outputs": [
    {
     "name": "stderr",
     "output_type": "stream",
     "text": [
      "100%|█████████████████████████████████████████████| 1/1 [00:13<00:00, 13.12s/it]"
     ]
    },
    {
     "name": "stdout",
     "output_type": "stream",
     "text": [
      "Test Loss: 0.012652355246245861\n",
      "Accuracy: 20.00%\n"
     ]
    },
    {
     "name": "stderr",
     "output_type": "stream",
     "text": [
      "\n"
     ]
    }
   ],
   "source": [
    "model.eval()\n",
    "test_loss = 0.0\n",
    "correct_predictions = 0\n",
    "total_samples = len(test_loader.dataset)\n",
    "\n",
    "with torch.no_grad():\n",
    "    for inputs, targets in tqdm(test_loader):\n",
    "        outputs = model(inputs)\n",
    "        loss = criterion(outputs, targets)\n",
    "        test_loss += loss.item()\n",
    "\n",
    "        # Подсчет числа правильных предсказаний\n",
    "        predicted_values = outputs.cpu().numpy()\n",
    "        true_values = targets.cpu().numpy()\n",
    "        diff = np.abs(predicted_values - true_values)\n",
    "        correct_predictions += np.sum(diff < 0.01)  # Предполагая, что разница менее 0.1 считается правильным предсказанием\n",
    "\n",
    "average_test_loss = test_loss / len(test_loader)\n",
    "accuracy = correct_predictions / total_samples\n",
    "\n",
    "print(f\"Test Loss: {average_test_loss}\")\n",
    "print(f\"Accuracy: {accuracy * 100:.2f}%\")"
   ]
  },
  {
   "cell_type": "code",
   "execution_count": 285,
   "metadata": {},
   "outputs": [],
   "source": [
    "torch.save(model.state_dict(), 'bestmodel_vortex_2507_vacc_20.py')"
   ]
  },
  {
   "cell_type": "code",
   "execution_count": null,
   "metadata": {},
   "outputs": [],
   "source": []
  },
  {
   "cell_type": "code",
   "execution_count": null,
   "metadata": {},
   "outputs": [],
   "source": []
  },
  {
   "cell_type": "code",
   "execution_count": 15,
   "metadata": {
    "id": "ms42G669C9eh"
   },
   "outputs": [],
   "source": [
    "# transformation\n",
    "size = 250\n",
    "\n",
    "transform = T.Compose([ #T.Resize(128),\n",
    "                        T.Normalize(mean = 0,\n",
    "                                    std=255.)\n",
    "                      ])\n",
    "#\n",
    "train_ds = CustomDataset(np_images[:size],\n",
    "                         np_labels[:size],\n",
    "                         transform=False)\n",
    "\n",
    "val_ds = CustomDataset(np_images[size:],\n",
    "                         np_labels[size:],\n",
    "                         transform=False)\n",
    "\n",
    "# val_ds  = CustomDataset(val_data[:,0],\n",
    "#                         val_data[:,1],\n",
    "#                         transform=False)"
   ]
  },
  {
   "cell_type": "code",
   "execution_count": 16,
   "metadata": {
    "colab": {
     "base_uri": "https://localhost:8080/"
    },
    "id": "mdY_xNQXC9gv",
    "outputId": "a7d976cf-a9cc-4cf7-d306-16335deb671a"
   },
   "outputs": [
    {
     "name": "stdout",
     "output_type": "stream",
     "text": [
      "tensor([0.0669, 0.0167])\n",
      "tensor([0.0669, 0.0167])\n",
      "tensor([0.0669, 0.0167])\n",
      "tensor([0.0669, 0.0167])\n",
      "tensor([0.0669, 0.0167])\n",
      "tensor([0.0670, 0.0167])\n",
      "tensor([0.0670, 0.0168])\n",
      "tensor([0.0670, 0.0168])\n",
      "tensor([0.0670, 0.0168])\n",
      "tensor([0.0670, 0.0168])\n",
      "tensor([0.0671, 0.0168])\n",
      "tensor([0.0671, 0.0169])\n",
      "tensor([0.0671, 0.0168])\n",
      "tensor([0.0670, 0.0167])\n",
      "tensor([0.0669, 0.0166])\n",
      "tensor([0.0669, 0.0166])\n",
      "tensor([0.0670, 0.0168])\n",
      "tensor([0.0671, 0.0169])\n",
      "tensor([0.0672, 0.0170])\n",
      "tensor([0.0672, 0.0170])\n",
      "tensor([0.0672, 0.0170])\n",
      "tensor([0.0673, 0.0171])\n",
      "tensor([0.0667, 0.0163])\n",
      "tensor([0.0665, 0.0159])\n",
      "tensor([0.0672, 0.0169])\n",
      "tensor([0.0675, 0.0174])\n",
      "tensor([0.0675, 0.0174])\n",
      "tensor([0.0676, 0.0174])\n",
      "tensor([0.0668, 0.0164])\n",
      "tensor([0.0670, 0.0167])\n",
      "tensor([0.0670, 0.0167])\n",
      "tensor([0.0675, 0.0174])\n",
      "tensor([0.0674, 0.0173])\n",
      "tensor([0.0674, 0.0172])\n",
      "tensor([0.0671, 0.0169])\n",
      "tensor([0.0672, 0.0169])\n",
      "tensor([0.0675, 0.0173])\n",
      "tensor([0.0674, 0.0172])\n",
      "tensor([0.0672, 0.0169])\n",
      "tensor([0.0678, 0.0177])\n",
      "tensor([0.0676, 0.0175])\n",
      "tensor([0.0670, 0.0167])\n",
      "tensor([0.0669, 0.0166])\n",
      "tensor([0.0674, 0.0173])\n",
      "tensor([0.0677, 0.0177])\n",
      "tensor([0.0668, 0.0164])\n",
      "tensor([0.0671, 0.0168])\n",
      "tensor([0.0674, 0.0173])\n",
      "tensor([0.0675, 0.0174])\n",
      "tensor([0.0680, 0.0180])\n",
      "tensor([0.0679, 0.0179])\n",
      "tensor([0.0671, 0.0169])\n",
      "tensor([0.0680, 0.0180])\n",
      "tensor([0.0674, 0.0171])\n",
      "tensor([0.0673, 0.0171])\n",
      "tensor([0.0673, 0.0172])\n",
      "tensor([0.0674, 0.0174])\n",
      "tensor([0.0678, 0.0178])\n",
      "tensor([0.0674, 0.0174])\n",
      "tensor([0.0684, 0.0186])\n",
      "tensor([0.0672, 0.0172])\n",
      "tensor([0.0679, 0.0180])\n",
      "tensor([0.0681, 0.0181])\n",
      "tensor([0.0678, 0.0181])\n",
      "tensor([0.0667, 0.0164])\n",
      "tensor([0.0674, 0.0173])\n",
      "tensor([0.0680, 0.0182])\n",
      "tensor([0.0675, 0.0175])\n",
      "tensor([0.0680, 0.0183])\n",
      "tensor([0.0678, 0.0177])\n",
      "tensor([0.0683, 0.0183])\n",
      "tensor([0.0678, 0.0182])\n",
      "tensor([0.0685, 0.0188])\n",
      "tensor([0.0680, 0.0182])\n",
      "tensor([0.0678, 0.0181])\n",
      "tensor([0.0686, 0.0189])\n",
      "tensor([0.0676, 0.0178])\n",
      "tensor([0.0675, 0.0178])\n",
      "tensor([0.0683, 0.0186])\n",
      "tensor([0.0675, 0.0177])\n",
      "tensor([0.0686, 0.0192])\n",
      "tensor([0.0684, 0.0184])\n",
      "tensor([0.0682, 0.0188])\n",
      "tensor([0.0679, 0.0184])\n",
      "tensor([0.0687, 0.0192])\n",
      "tensor([0.0675, 0.0178])\n",
      "tensor([0.0682, 0.0191])\n",
      "tensor([0.0678, 0.0184])\n",
      "tensor([0.0683, 0.0191])\n",
      "tensor([0.0683, 0.0189])\n",
      "tensor([0.0686, 0.0196])\n",
      "tensor([0.0692, 0.0200])\n",
      "tensor([0.0675, 0.0181])\n",
      "tensor([0.0681, 0.0188])\n",
      "tensor([0.0684, 0.0191])\n",
      "tensor([0.0685, 0.0195])\n",
      "tensor([0.0682, 0.0191])\n",
      "tensor([0.0687, 0.0198])\n",
      "tensor([0.0692, 0.0199])\n",
      "tensor([0.0688, 0.0191])\n",
      "tensor([0.0690, 0.0199])\n",
      "tensor([0.0690, 0.0198])\n",
      "tensor([0.0692, 0.0204])\n",
      "tensor([0.0683, 0.0194])\n",
      "tensor([0.0688, 0.0197])\n",
      "tensor([0.0687, 0.0198])\n",
      "tensor([0.0690, 0.0204])\n",
      "tensor([0.0689, 0.0203])\n",
      "tensor([0.0697, 0.0210])\n",
      "tensor([0.0685, 0.0198])\n",
      "tensor([0.0696, 0.0212])\n",
      "tensor([0.0704, 0.0215])\n",
      "tensor([0.0676, 0.0186])\n",
      "tensor([0.0696, 0.0208])\n",
      "tensor([0.0692, 0.0208])\n",
      "tensor([0.0696, 0.0213])\n",
      "tensor([0.0704, 0.0222])\n",
      "tensor([0.0692, 0.0211])\n",
      "tensor([0.0693, 0.0209])\n",
      "tensor([0.0696, 0.0215])\n",
      "tensor([0.0689, 0.0200])\n",
      "tensor([0.0701, 0.0220])\n",
      "tensor([0.0705, 0.0226])\n",
      "tensor([0.0689, 0.0204])\n",
      "tensor([0.0699, 0.0218])\n",
      "tensor([0.0697, 0.0218])\n",
      "tensor([0.0689, 0.0206])\n",
      "tensor([0.0693, 0.0210])\n",
      "tensor([0.0710, 0.0235])\n",
      "tensor([0.0693, 0.0211])\n",
      "tensor([0.0713, 0.0235])\n",
      "tensor([0.0702, 0.0221])\n",
      "tensor([0.0702, 0.0226])\n",
      "tensor([0.0682, 0.0201])\n",
      "tensor([0.0718, 0.0242])\n",
      "tensor([0.0699, 0.0218])\n",
      "tensor([0.0697, 0.0217])\n",
      "tensor([0.0711, 0.0234])\n",
      "tensor([0.0719, 0.0245])\n",
      "tensor([0.0693, 0.0215])\n",
      "tensor([0.0694, 0.0221])\n",
      "tensor([0.0708, 0.0237])\n",
      "tensor([0.0698, 0.0219])\n",
      "tensor([0.0703, 0.0232])\n",
      "tensor([0.0717, 0.0247])\n",
      "tensor([0.0711, 0.0238])\n",
      "tensor([0.0710, 0.0237])\n",
      "tensor([0.0696, 0.0217])\n",
      "tensor([0.0710, 0.0249])\n",
      "tensor([0.0699, 0.0231])\n"
     ]
    }
   ],
   "source": [
    "for img, lab in train_ds:\n",
    "    print(lab)\n"
   ]
  },
  {
   "cell_type": "markdown",
   "metadata": {
    "id": "lAuwiyRhB0Wa"
   },
   "source": [
    "MODEL TRAIN"
   ]
  },
  {
   "cell_type": "code",
   "execution_count": null,
   "metadata": {
    "id": "S8FMplarB10-"
   },
   "outputs": [],
   "source": []
  },
  {
   "cell_type": "code",
   "execution_count": 17,
   "metadata": {
    "id": "AZBowFjTCIMr"
   },
   "outputs": [],
   "source": [
    "BATCH_SIZE = 64\n",
    "DIM_IN = 2\n",
    "DIM_OUT = 2"
   ]
  },
  {
   "cell_type": "code",
   "execution_count": 18,
   "metadata": {
    "id": "4UjgK7XTB3EE"
   },
   "outputs": [],
   "source": [
    "class Net(nn.Module):\n",
    "    def __init__(self):\n",
    "\n",
    "        super(Net, self).__init__()\n",
    "\n",
    "        self.conv11 = nn.Conv2d(DIM_IN, 32, kernel_size=3, padding=1)\n",
    "        self.conv12 = nn.Conv2d(32, 64, kernel_size=3, stride=1, padding=1)\n",
    "        self.mpool1 = nn.MaxPool2d(2, 2)\n",
    "        self.bn1    = nn.BatchNorm2d(64)\n",
    "\n",
    "        self.conv21 = nn.Conv2d(64, 128, kernel_size=3, stride=1, padding=1)\n",
    "        self.conv22 = nn.Conv2d(128, 128, kernel_size=3, stride=1, padding=1)\n",
    "        self.mpool2 = nn.MaxPool2d(2, 2)\n",
    "        self.bn2    = nn.BatchNorm2d(128)\n",
    "\n",
    "        self.conv31 = nn.Conv2d(128, 256, kernel_size=3, stride=1, padding=1)\n",
    "        self.conv32 = nn.Conv2d(256, 256, kernel_size=3, stride=1, padding=1)\n",
    "        self.mpool3 = nn.MaxPool2d(2, 2)\n",
    "        self.bn3    = nn.BatchNorm2d(256)\n",
    "\n",
    "        self.aap1   = nn.AdaptiveAvgPool2d((1,1))\n",
    "\n",
    "        self.flt = nn.Flatten()\n",
    "        self.fc1 = nn.Linear(256, 128)\n",
    "        self.fc2 = nn.Linear(128, 64)\n",
    "        self.fc3 = nn.Linear(64, DIM_OUT)\n",
    "\n",
    "    def forward(self, x):\n",
    "\n",
    "        x = F.relu(self.conv11(x))\n",
    "        x = F.relu(self.conv12(x))\n",
    "        x = self.mpool1(x)\n",
    "        x = self.bn1(x)\n",
    "\n",
    "        x = F.relu(self.conv21(x))\n",
    "        x = F.relu(self.conv22(x))\n",
    "        x = self.mpool2(x)\n",
    "        x = self.bn2(x)\n",
    "\n",
    "        x = F.relu(self.conv31(x))\n",
    "        x = F.relu(self.conv32(x))\n",
    "        x = self.mpool3(x)\n",
    "        x = self.bn3(x)\n",
    "\n",
    "        x = self.aap1(x)\n",
    "\n",
    "        x = self.flt(x)\n",
    "\n",
    "        x = F.relu(self.fc1(x))\n",
    "        x = F.relu(self.fc2(x))\n",
    "        x = self.fc3(x)\n",
    "\n",
    "        return x"
   ]
  },
  {
   "cell_type": "code",
   "execution_count": 19,
   "metadata": {
    "id": "RRZoVRJVB_yy"
   },
   "outputs": [],
   "source": [
    "model = Net()"
   ]
  },
  {
   "cell_type": "code",
   "execution_count": 20,
   "metadata": {
    "colab": {
     "base_uri": "https://localhost:8080/"
    },
    "id": "T4Bz_LcWCCRE",
    "outputId": "17eb431e-0c30-47b3-888b-37e655c474a6"
   },
   "outputs": [],
   "source": [
    "# summary(model,(2,128,128))"
   ]
  },
  {
   "cell_type": "code",
   "execution_count": 21,
   "metadata": {},
   "outputs": [],
   "source": [
    "params = { \"batch_size\": 16,\n",
    "           \"shuffle\"   : True,\n",
    "           \"drop_last\" : True\n",
    "}\n",
    "\n",
    "train_dataloader = DataLoader(train_ds, **params)\n",
    "val_dataloader  = DataLoader(val_ds, **params)"
   ]
  },
  {
   "cell_type": "code",
   "execution_count": null,
   "metadata": {},
   "outputs": [],
   "source": []
  },
  {
   "cell_type": "code",
   "execution_count": 24,
   "metadata": {
    "id": "RndLgk27CD9p"
   },
   "outputs": [],
   "source": [
    "train_losses=[]\n",
    "train_accu=[]\n",
    "\n",
    "# device = \"cpu\"\n",
    "device = \"cpu\"\n",
    "\n",
    "# device=torch.device(\"cuda:0\" if torch.cuda.is_available else \"cpu\")\n",
    "model.to(device)\n",
    "\n",
    "loss_fn=nn.CrossEntropyLoss()\n",
    "optimizer=optim.SGD(model.parameters(), lr=0.001, momentum=0.9)\n",
    "\n",
    "\n",
    "def train(epoch):\n",
    "    print('\\nEpoch : %d'%epoch)\n",
    "\n",
    "    model.train()\n",
    "\n",
    "    running_loss=0\n",
    "    correct=0\n",
    "    total=0\n",
    "\n",
    "\n",
    "    for data in tqdm(train_dataloader):\n",
    "\n",
    "        inputs, labels = data[0].to(device), data[1].to(device)\n",
    "        print(labels)\n",
    "\n",
    "        outputs=model(inputs)\n",
    "\n",
    "        print(outputs.shape)\n",
    "        print(labels.shape)\n",
    "        loss=loss_fn(outputs,labels)\n",
    "\n",
    "        #Replaces pow(2.0) with abs() for L1 regularization\n",
    "\n",
    "        l2_lambda = 0.001\n",
    "        l2_norm = sum(p.pow(2.0).sum()\n",
    "                      for p in model.parameters())\n",
    "\n",
    "        loss = loss + l2_lambda * l2_norm\n",
    "\n",
    "        optimizer.zero_grad()\n",
    "        loss.backward()\n",
    "        optimizer.step()\n",
    "\n",
    "        running_loss += loss.item()\n",
    "\n",
    "        _, predicted = outputs.max(1)\n",
    "        total += labels.size(0)\n",
    "        correct += predicted.eq(labels).sum().item()\n",
    "\n",
    "    train_loss=running_loss/len(train_dataloader)\n",
    "    accu=100.*correct/total\n",
    "\n",
    "    train_accu.append(accu)\n",
    "    train_losses.append(train_loss)\n",
    "    print('Train Loss: %.3f | Accuracy: %.3f'%(train_loss,accu))"
   ]
  },
  {
   "cell_type": "code",
   "execution_count": 25,
   "metadata": {},
   "outputs": [
    {
     "name": "stdout",
     "output_type": "stream",
     "text": [
      "\n",
      "Epoch : 1\n"
     ]
    },
    {
     "name": "stderr",
     "output_type": "stream",
     "text": [
      "  0%|                                                    | 0/15 [00:00<?, ?it/s]\n"
     ]
    },
    {
     "ename": "IndexError",
     "evalue": "index 215 is out of bounds for axis 0 with size 150",
     "output_type": "error",
     "traceback": [
      "\u001b[0;31m---------------------------------------------------------------------------\u001b[0m",
      "\u001b[0;31mIndexError\u001b[0m                                Traceback (most recent call last)",
      "Cell \u001b[0;32mIn[25], line 4\u001b[0m\n\u001b[1;32m      1\u001b[0m epochs \u001b[38;5;241m=\u001b[39m \u001b[38;5;241m50\u001b[39m\n\u001b[1;32m      3\u001b[0m \u001b[38;5;28;01mfor\u001b[39;00m epoch \u001b[38;5;129;01min\u001b[39;00m \u001b[38;5;28mrange\u001b[39m(\u001b[38;5;241m1\u001b[39m, epochs\u001b[38;5;241m+\u001b[39m\u001b[38;5;241m1\u001b[39m): \n\u001b[0;32m----> 4\u001b[0m     \u001b[43mtrain\u001b[49m\u001b[43m(\u001b[49m\u001b[43mepoch\u001b[49m\u001b[43m)\u001b[49m\n\u001b[1;32m      5\u001b[0m     \u001b[38;5;66;03m#test(epoch)\u001b[39;00m\n\u001b[1;32m      7\u001b[0m     checkpoint \u001b[38;5;241m=\u001b[39m {\u001b[38;5;124m'\u001b[39m\u001b[38;5;124mstate_dict\u001b[39m\u001b[38;5;124m'\u001b[39m: model\u001b[38;5;241m.\u001b[39mstate_dict(),\u001b[38;5;124m'\u001b[39m\u001b[38;5;124moptimizer\u001b[39m\u001b[38;5;124m'\u001b[39m :optimizer\u001b[38;5;241m.\u001b[39mstate_dict()}\n",
      "Cell \u001b[0;32mIn[24], line 24\u001b[0m, in \u001b[0;36mtrain\u001b[0;34m(epoch)\u001b[0m\n\u001b[1;32m     20\u001b[0m correct\u001b[38;5;241m=\u001b[39m\u001b[38;5;241m0\u001b[39m\n\u001b[1;32m     21\u001b[0m total\u001b[38;5;241m=\u001b[39m\u001b[38;5;241m0\u001b[39m\n\u001b[0;32m---> 24\u001b[0m \u001b[38;5;28;01mfor\u001b[39;00m data \u001b[38;5;129;01min\u001b[39;00m tqdm(train_dataloader):\n\u001b[1;32m     26\u001b[0m     inputs, labels \u001b[38;5;241m=\u001b[39m data[\u001b[38;5;241m0\u001b[39m]\u001b[38;5;241m.\u001b[39mto(device), data[\u001b[38;5;241m1\u001b[39m]\u001b[38;5;241m.\u001b[39mto(device)\n\u001b[1;32m     27\u001b[0m     \u001b[38;5;28mprint\u001b[39m(labels)\n",
      "File \u001b[0;32m/Library/Frameworks/Python.framework/Versions/3.10/lib/python3.10/site-packages/tqdm/std.py:1178\u001b[0m, in \u001b[0;36mtqdm.__iter__\u001b[0;34m(self)\u001b[0m\n\u001b[1;32m   1175\u001b[0m time \u001b[38;5;241m=\u001b[39m \u001b[38;5;28mself\u001b[39m\u001b[38;5;241m.\u001b[39m_time\n\u001b[1;32m   1177\u001b[0m \u001b[38;5;28;01mtry\u001b[39;00m:\n\u001b[0;32m-> 1178\u001b[0m     \u001b[38;5;28;01mfor\u001b[39;00m obj \u001b[38;5;129;01min\u001b[39;00m iterable:\n\u001b[1;32m   1179\u001b[0m         \u001b[38;5;28;01myield\u001b[39;00m obj\n\u001b[1;32m   1180\u001b[0m         \u001b[38;5;66;03m# Update and possibly print the progressbar.\u001b[39;00m\n\u001b[1;32m   1181\u001b[0m         \u001b[38;5;66;03m# Note: does not call self.update(1) for speed optimisation.\u001b[39;00m\n",
      "File \u001b[0;32m/Library/Frameworks/Python.framework/Versions/3.10/lib/python3.10/site-packages/torch/utils/data/dataloader.py:681\u001b[0m, in \u001b[0;36m_BaseDataLoaderIter.__next__\u001b[0;34m(self)\u001b[0m\n\u001b[1;32m    678\u001b[0m \u001b[38;5;28;01mif\u001b[39;00m \u001b[38;5;28mself\u001b[39m\u001b[38;5;241m.\u001b[39m_sampler_iter \u001b[38;5;129;01mis\u001b[39;00m \u001b[38;5;28;01mNone\u001b[39;00m:\n\u001b[1;32m    679\u001b[0m     \u001b[38;5;66;03m# TODO(https://github.com/pytorch/pytorch/issues/76750)\u001b[39;00m\n\u001b[1;32m    680\u001b[0m     \u001b[38;5;28mself\u001b[39m\u001b[38;5;241m.\u001b[39m_reset()  \u001b[38;5;66;03m# type: ignore[call-arg]\u001b[39;00m\n\u001b[0;32m--> 681\u001b[0m data \u001b[38;5;241m=\u001b[39m \u001b[38;5;28;43mself\u001b[39;49m\u001b[38;5;241;43m.\u001b[39;49m\u001b[43m_next_data\u001b[49m\u001b[43m(\u001b[49m\u001b[43m)\u001b[49m\n\u001b[1;32m    682\u001b[0m \u001b[38;5;28mself\u001b[39m\u001b[38;5;241m.\u001b[39m_num_yielded \u001b[38;5;241m+\u001b[39m\u001b[38;5;241m=\u001b[39m \u001b[38;5;241m1\u001b[39m\n\u001b[1;32m    683\u001b[0m \u001b[38;5;28;01mif\u001b[39;00m \u001b[38;5;28mself\u001b[39m\u001b[38;5;241m.\u001b[39m_dataset_kind \u001b[38;5;241m==\u001b[39m _DatasetKind\u001b[38;5;241m.\u001b[39mIterable \u001b[38;5;129;01mand\u001b[39;00m \\\n\u001b[1;32m    684\u001b[0m         \u001b[38;5;28mself\u001b[39m\u001b[38;5;241m.\u001b[39m_IterableDataset_len_called \u001b[38;5;129;01mis\u001b[39;00m \u001b[38;5;129;01mnot\u001b[39;00m \u001b[38;5;28;01mNone\u001b[39;00m \u001b[38;5;129;01mand\u001b[39;00m \\\n\u001b[1;32m    685\u001b[0m         \u001b[38;5;28mself\u001b[39m\u001b[38;5;241m.\u001b[39m_num_yielded \u001b[38;5;241m>\u001b[39m \u001b[38;5;28mself\u001b[39m\u001b[38;5;241m.\u001b[39m_IterableDataset_len_called:\n",
      "File \u001b[0;32m/Library/Frameworks/Python.framework/Versions/3.10/lib/python3.10/site-packages/torch/utils/data/dataloader.py:721\u001b[0m, in \u001b[0;36m_SingleProcessDataLoaderIter._next_data\u001b[0;34m(self)\u001b[0m\n\u001b[1;32m    719\u001b[0m \u001b[38;5;28;01mdef\u001b[39;00m \u001b[38;5;21m_next_data\u001b[39m(\u001b[38;5;28mself\u001b[39m):\n\u001b[1;32m    720\u001b[0m     index \u001b[38;5;241m=\u001b[39m \u001b[38;5;28mself\u001b[39m\u001b[38;5;241m.\u001b[39m_next_index()  \u001b[38;5;66;03m# may raise StopIteration\u001b[39;00m\n\u001b[0;32m--> 721\u001b[0m     data \u001b[38;5;241m=\u001b[39m \u001b[38;5;28;43mself\u001b[39;49m\u001b[38;5;241;43m.\u001b[39;49m\u001b[43m_dataset_fetcher\u001b[49m\u001b[38;5;241;43m.\u001b[39;49m\u001b[43mfetch\u001b[49m\u001b[43m(\u001b[49m\u001b[43mindex\u001b[49m\u001b[43m)\u001b[49m  \u001b[38;5;66;03m# may raise StopIteration\u001b[39;00m\n\u001b[1;32m    722\u001b[0m     \u001b[38;5;28;01mif\u001b[39;00m \u001b[38;5;28mself\u001b[39m\u001b[38;5;241m.\u001b[39m_pin_memory:\n\u001b[1;32m    723\u001b[0m         data \u001b[38;5;241m=\u001b[39m _utils\u001b[38;5;241m.\u001b[39mpin_memory\u001b[38;5;241m.\u001b[39mpin_memory(data, \u001b[38;5;28mself\u001b[39m\u001b[38;5;241m.\u001b[39m_pin_memory_device)\n",
      "File \u001b[0;32m/Library/Frameworks/Python.framework/Versions/3.10/lib/python3.10/site-packages/torch/utils/data/_utils/fetch.py:49\u001b[0m, in \u001b[0;36m_MapDatasetFetcher.fetch\u001b[0;34m(self, possibly_batched_index)\u001b[0m\n\u001b[1;32m     47\u001b[0m \u001b[38;5;28;01mdef\u001b[39;00m \u001b[38;5;21mfetch\u001b[39m(\u001b[38;5;28mself\u001b[39m, possibly_batched_index):\n\u001b[1;32m     48\u001b[0m     \u001b[38;5;28;01mif\u001b[39;00m \u001b[38;5;28mself\u001b[39m\u001b[38;5;241m.\u001b[39mauto_collation:\n\u001b[0;32m---> 49\u001b[0m         data \u001b[38;5;241m=\u001b[39m [\u001b[38;5;28mself\u001b[39m\u001b[38;5;241m.\u001b[39mdataset[idx] \u001b[38;5;28;01mfor\u001b[39;00m idx \u001b[38;5;129;01min\u001b[39;00m possibly_batched_index]\n\u001b[1;32m     50\u001b[0m     \u001b[38;5;28;01melse\u001b[39;00m:\n\u001b[1;32m     51\u001b[0m         data \u001b[38;5;241m=\u001b[39m \u001b[38;5;28mself\u001b[39m\u001b[38;5;241m.\u001b[39mdataset[possibly_batched_index]\n",
      "File \u001b[0;32m/Library/Frameworks/Python.framework/Versions/3.10/lib/python3.10/site-packages/torch/utils/data/_utils/fetch.py:49\u001b[0m, in \u001b[0;36m<listcomp>\u001b[0;34m(.0)\u001b[0m\n\u001b[1;32m     47\u001b[0m \u001b[38;5;28;01mdef\u001b[39;00m \u001b[38;5;21mfetch\u001b[39m(\u001b[38;5;28mself\u001b[39m, possibly_batched_index):\n\u001b[1;32m     48\u001b[0m     \u001b[38;5;28;01mif\u001b[39;00m \u001b[38;5;28mself\u001b[39m\u001b[38;5;241m.\u001b[39mauto_collation:\n\u001b[0;32m---> 49\u001b[0m         data \u001b[38;5;241m=\u001b[39m [\u001b[38;5;28;43mself\u001b[39;49m\u001b[38;5;241;43m.\u001b[39;49m\u001b[43mdataset\u001b[49m\u001b[43m[\u001b[49m\u001b[43midx\u001b[49m\u001b[43m]\u001b[49m \u001b[38;5;28;01mfor\u001b[39;00m idx \u001b[38;5;129;01min\u001b[39;00m possibly_batched_index]\n\u001b[1;32m     50\u001b[0m     \u001b[38;5;28;01melse\u001b[39;00m:\n\u001b[1;32m     51\u001b[0m         data \u001b[38;5;241m=\u001b[39m \u001b[38;5;28mself\u001b[39m\u001b[38;5;241m.\u001b[39mdataset[possibly_batched_index]\n",
      "Cell \u001b[0;32mIn[14], line 16\u001b[0m, in \u001b[0;36mCustomDataset.__getitem__\u001b[0;34m(self, idx)\u001b[0m\n\u001b[1;32m     15\u001b[0m     \u001b[38;5;28;01mdef\u001b[39;00m \u001b[38;5;21m__getitem__\u001b[39m(\u001b[38;5;28mself\u001b[39m, idx):\n\u001b[0;32m---> 16\u001b[0m         image \u001b[38;5;241m=\u001b[39m torch\u001b[38;5;241m.\u001b[39mTensor(\u001b[38;5;28;43mself\u001b[39;49m\u001b[38;5;241;43m.\u001b[39;49m\u001b[43mimages\u001b[49m\u001b[43m[\u001b[49m\u001b[43midx\u001b[49m\u001b[43m]\u001b[49m)\n\u001b[1;32m     17\u001b[0m         label \u001b[38;5;241m=\u001b[39m torch\u001b[38;5;241m.\u001b[39mTensor(\u001b[38;5;28mself\u001b[39m\u001b[38;5;241m.\u001b[39mlabels[idx])\n\u001b[1;32m     19\u001b[0m \u001b[38;5;66;03m#         image = torch.reshape(image,(8,128,128))\u001b[39;00m\n\u001b[1;32m     20\u001b[0m \u001b[38;5;66;03m#         image = torch.reshape(image,(image.shape[0],image.shape[1],image.shape[3]))\u001b[39;00m\n\u001b[1;32m     21\u001b[0m \u001b[38;5;66;03m#         image = self.transform(image)\u001b[39;00m\n\u001b[0;32m   (...)\u001b[0m\n\u001b[1;32m     24\u001b[0m \u001b[38;5;66;03m#         if self.target_transform:\u001b[39;00m\n\u001b[1;32m     25\u001b[0m \u001b[38;5;66;03m#             label = self.target_transform(label)\u001b[39;00m\n",
      "\u001b[0;31mIndexError\u001b[0m: index 215 is out of bounds for axis 0 with size 150"
     ]
    }
   ],
   "source": [
    "epochs = 50\n",
    "\n",
    "for epoch in range(1, epochs+1): \n",
    "    train(epoch)\n",
    "    #test(epoch)\n",
    "    \n",
    "    checkpoint = {'state_dict': model.state_dict(),'optimizer' :optimizer.state_dict()}\n",
    "    \n",
    "    cp_name = f\"./model/cp_model_05_rect_128_serial_\" +\\\n",
    "              f\"e{epoch}.pt\"\n",
    "    \n",
    "    print(f\"Save checkpoint {cp_name}\")\n",
    "    torch.save(checkpoint, cp_name)\n",
    "               "
   ]
  },
  {
   "cell_type": "code",
   "execution_count": 2,
   "metadata": {},
   "outputs": [
    {
     "name": "stdout",
     "output_type": "stream",
     "text": [
      "Python 3.10.0\r\n"
     ]
    }
   ],
   "source": [
    "!python3 --version"
   ]
  },
  {
   "cell_type": "code",
   "execution_count": null,
   "metadata": {},
   "outputs": [],
   "source": [
    "import paraview.simple as pv\n",
    "\n",
    "# Загрузка VTK файла\n",
    "file_path = 'путь_к_вашему_файлу.vtk'\n",
    "reader = pv.OpenDataFile(file_path)\n",
    "\n",
    "# Отображение объекта в Paraview\n",
    "pv.Show(reader)\n",
    "\n",
    "# Установка видового окна\n",
    "render_view = pv.GetActiveView()\n",
    "render_view.ViewSize = [800, 600]  # Установите размер вида по вашему желанию\n",
    "\n",
    "# Сохранение изображения в PNG\n",
    "image_path = 'путь_к_сохранению/название_изображения.png'\n",
    "pv.SaveScreenshot(image_path, render_view)\n",
    "import paraview.simple as pv\n",
    "\n",
    "# Загрузка VTK файла\n",
    "file_path = 'путь_к_вашему_файлу.vtk'\n",
    "reader = pv.OpenDataFile(file_path)\n",
    "\n",
    "# Отображение объекта в Paraview\n",
    "pv.Show(reader)\n",
    "\n",
    "# Установка видового окна\n",
    "render_view = pv.GetActiveView()\n",
    "render_view.ViewSize = [800, 600]  # Установите размер вида по вашему желанию\n",
    "\n",
    "# Сохранение изображения в PNG\n",
    "image_path = 'путь_к_сохранению/название_изображения.png'\n",
    "pv.SaveScreenshot(image_path, render_view)\n"
   ]
  },
  {
   "cell_type": "code",
   "execution_count": null,
   "metadata": {},
   "outputs": [],
   "source": [
    "import os\n",
    "\n",
    "# Указываете путь к исполняемому файлу ParaView\n",
    "paraview_executable = '/путь_к_paraview/bin/paraview'\n",
    "\n",
    "# Указываете путь к вашему VTK файлу\n",
    "vtk_file = 'путь_к_вашему_файлу.vtk'\n",
    "\n",
    "# Указываете путь для сохранения изображения\n",
    "output_image = 'путь_к_сохранению/название_изображения.png'\n",
    "\n",
    "# Создайте команду для открытия файла в Paraview\n",
    "command = f'{paraview_executable} --script=paraview_script.py'\n",
    "\n",
    "# Создайте файл paraview_script.py, который содержит команды для открытия файла и сохранения изображения\n",
    "with open('paraview_script.py', 'w') as script_file:\n",
    "    script_file.write(f'''\n",
    "from paraview.simple import *\n",
    "\n",
    "# Открываем VTK файл\n",
    "OpenDataFile(\"{vtk_file}\")\n",
    "\n",
    "# Отображаем данные\n",
    "RenderView()\n",
    "\n",
    "# Сохраняем изображение\n",
    "SaveScreenshot(\"{output_image}\")\n",
    "''')\n",
    "\n",
    "# Запускаем Paraview с помощью созданной команды\n",
    "os.system(command)\n",
    "\n",
    "# Удаляем временный скрипт\n",
    "os.remove('paraview_script.py')\n"
   ]
  },
  {
   "cell_type": "code",
   "execution_count": null,
   "metadata": {},
   "outputs": [],
   "source": []
  },
  {
   "cell_type": "code",
   "execution_count": null,
   "metadata": {},
   "outputs": [],
   "source": []
  },
  {
   "cell_type": "code",
   "execution_count": null,
   "metadata": {},
   "outputs": [],
   "source": []
  }
 ],
 "metadata": {
  "colab": {
   "provenance": []
  },
  "kernelspec": {
   "display_name": "Python 3 (ipykernel)",
   "language": "python",
   "name": "python3"
  },
  "language_info": {
   "codemirror_mode": {
    "name": "ipython",
    "version": 3
   },
   "file_extension": ".py",
   "mimetype": "text/x-python",
   "name": "python",
   "nbconvert_exporter": "python",
   "pygments_lexer": "ipython3",
   "version": "3.10.0"
  }
 },
 "nbformat": 4,
 "nbformat_minor": 1
}
